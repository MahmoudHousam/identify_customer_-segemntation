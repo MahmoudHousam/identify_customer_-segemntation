{
  "cells": [
    {
      "cell_type": "markdown",
      "source": [
        "# Project: Identify Customer Segments\n",
        "\n",
        "In this project, you will apply unsupervised learning techniques to identify segments of the population that form the core customer base for a mail-order sales company in Germany. These segments can then be used to direct marketing campaigns towards audiences that will have the highest expected rate of returns. The data that you will use has been provided by our partners at Bertelsmann Arvato Analytics, and represents a real-life data science task.\n",
        "\n",
        "This notebook will help you complete this task by providing a framework within which you will perform your analysis steps. In each step of the project, you will see some text describing the subtask that you will perform, followed by one or more code cells for you to complete your work. **Feel free to add additional code and markdown cells as you go along so that you can explore everything in precise chunks.** The code cells provided in the base template will outline only the major tasks, and will usually not be enough to cover all of the minor tasks that comprise it.\n",
        "\n",
        "It should be noted that while there will be precise guidelines on how you should handle certain tasks in the project, there will also be places where an exact specification is not provided. **There will be times in the project where you will need to make and justify your own decisions on how to treat the data.** These are places where there may not be only one way to handle the data. In real-life tasks, there may be many valid ways to approach an analysis task. One of the most important things you can do is clearly document your approach so that other scientists can understand the decisions you've made.\n",
        "\n",
        "At the end of most sections, there will be a Markdown cell labeled **Discussion**. In these cells, you will report your findings for the completed section, as well as document the decisions that you made in your approach to each subtask. **Your project will be evaluated not just on the code used to complete the tasks outlined, but also your communication about your observations and conclusions at each stage.**"
      ],
      "metadata": {}
    },
    {
      "cell_type": "code",
      "source": [
        "# import libraries here; add more as necessary\n",
        "#upgrading plotly version\n",
        "!pip install plotly==4.8.1\n",
        "#upgrading sklearn version\n",
        "!pip install scikit-learn==0.23.1\n",
        "import pandas as pd\n",
        "import numpy as np\n",
        "import plotly.graph_objs as go\n",
        "from plotly.subplots import make_subplots\n",
        "from scipy import stats\n",
        "import matplotlib.pyplot as plt\n",
        "import seaborn as sns\n",
        "\n",
        "# magic word for producing visualizations in notebook\n",
        "%matplotlib inline\n",
        "\n",
        "#installing pandas profiling package\n",
        "# # !pip install pandas-profiling\n",
        "# from pandas_profiling import ProfileReport\n",
        "'''\n",
        "Import note: The classroom currently uses sklearn version 0.19.\n",
        "If you need to use an imputer, it is available in sklearn.preprocessing.Imputer,\n",
        "instead of sklearn.impute as in newer versions of sklearn.\n",
        "'''"
      ],
      "outputs": [
        {
          "output_type": "stream",
          "name": "stdout",
          "text": [
            "Requirement already satisfied: plotly==4.8.1 in /opt/conda/lib/python3.6/site-packages (4.8.1)\n",
            "Requirement already satisfied: retrying>=1.3.3 in /opt/conda/lib/python3.6/site-packages (from plotly==4.8.1) (1.3.3)\n",
            "Requirement already satisfied: six in /opt/conda/lib/python3.6/site-packages (from plotly==4.8.1) (1.11.0)\n",
            "Requirement already satisfied: scikit-learn==0.23.1 in /opt/conda/lib/python3.6/site-packages (0.23.1)\n",
            "Requirement already satisfied: joblib>=0.11 in /opt/conda/lib/python3.6/site-packages (from scikit-learn==0.23.1) (0.11)\n",
            "Requirement already satisfied: numpy>=1.13.3 in /opt/conda/lib/python3.6/site-packages (from scikit-learn==0.23.1) (1.19.0)\n",
            "Requirement already satisfied: threadpoolctl>=2.0.0 in /opt/conda/lib/python3.6/site-packages (from scikit-learn==0.23.1) (2.1.0)\n",
            "Requirement already satisfied: scipy>=0.19.1 in /opt/conda/lib/python3.6/site-packages (from scikit-learn==0.23.1) (1.2.1)\n"
          ]
        },
        {
          "output_type": "execute_result",
          "execution_count": 1,
          "data": {
            "text/plain": [
              "'\\nImport note: The classroom currently uses sklearn version 0.19.\\nIf you need to use an imputer, it is available in sklearn.preprocessing.Imputer,\\ninstead of sklearn.impute as in newer versions of sklearn.\\n'"
            ]
          },
          "metadata": {}
        }
      ],
      "execution_count": 1,
      "metadata": {}
    },
    {
      "cell_type": "markdown",
      "source": [
        "### Step 0: Load the Data\n",
        "\n",
        "There are four files associated with this project (not including this one):\n",
        "\n",
        "- `Udacity_AZDIAS_Subset.csv`: Demographics data for the general population of Germany; 891211 persons (rows) x 85 features (columns).\n",
        "- `Udacity_CUSTOMERS_Subset.csv`: Demographics data for customers of a mail-order company; 191652 persons (rows) x 85 features (columns).\n",
        "- `Data_Dictionary.md`: Detailed information file about the features in the provided datasets.\n",
        "- `AZDIAS_Feature_Summary.csv`: Summary of feature attributes for demographics data; 85 features (rows) x 4 columns\n",
        "\n",
        "Each row of the demographics files represents a single person, but also includes information outside of individuals, including information about their household, building, and neighborhood. You will use this information to cluster the general population into groups with similar demographic properties. Then, you will see how the people in the customers dataset fit into those created clusters. The hope here is that certain clusters are over-represented in the customers data, as compared to the general population; those over-represented clusters will be assumed to be part of the core userbase. This information can then be used for further applications, such as targeting for a marketing campaign.\n",
        "\n",
        "To start off with, load in the demographics data for the general population into a pandas DataFrame, and do the same for the feature attributes summary. Note for all of the `.csv` data files in this project: they're semicolon (`;`) delimited, so you'll need an additional argument in your [`read_csv()`](https://pandas.pydata.org/pandas-docs/stable/generated/pandas.read_csv.html) call to read in the data properly. Also, considering the size of the main dataset, it may take some time for it to load completely.\n",
        "\n",
        "Once the dataset is loaded, it's recommended that you take a little bit of time just browsing the general structure of the dataset and feature summary file. You'll be getting deep into the innards of the cleaning in the first major step of the project, so gaining some general familiarity can help you get your bearings."
      ],
      "metadata": {}
    },
    {
      "cell_type": "code",
      "source": [
        "# Load in the general demographics data.\n",
        "azdias = pd.read_csv('./Udacity_AZDIAS_Subset.csv', delimiter = ';')\n",
        "\n",
        "# Load in the feature summary file.\n",
        "feat_info = pd.read_csv('./AZDIAS_Feature_Summary.csv', delimiter = ';')"
      ],
      "outputs": [],
      "execution_count": 2,
      "metadata": {}
    },
    {
      "cell_type": "code",
      "source": [
        "#the following cell is executed and the final output is saved in the workspace directory."
      ],
      "outputs": [],
      "execution_count": 3,
      "metadata": {}
    },
    {
      "cell_type": "raw",
      "source": [
        "#checking the structure of azdias with pandas profiling\n",
        "azdias_profile = ProfileReport(azdias, title = \"AZDIAS Profile Report\", explorative=True)\n",
        "#checking the structure of feat_info with pandas profiling\n",
        "sum_profile = ProfileReport(feat_info, title = \"Summary Feature Info Report\", explorative=True)\n",
        "#writing azdias_profile to html file\n",
        "azdias_profile.to_file(\"AZDIAS Profile Report.html\")\n",
        "# writing sum_profile to html file\n",
        "sum_profile.to_file(\"Summary Feature Info Report.html\")"
      ],
      "metadata": {}
    },
    {
      "cell_type": "markdown",
      "source": [
        "> **Tip**: Add additional cells to keep everything in reasonably-sized chunks! Keyboard shortcut `esc --> a` (press escape to enter command mode, then press the 'A' key) adds a new cell before the active cell, and `esc --> b` adds a new cell after the active cell. If you need to convert an active cell to a markdown cell, use `esc --> m` and to convert to a code cell, use `esc --> y`. \n",
        "\n",
        "## Step 1: Preprocessing\n",
        "\n",
        "### Step 1.1: Assess Missing Data\n",
        "\n",
        "The feature summary file contains a summary of properties for each demographics data column. You will use this file to help you make cleaning decisions during this stage of the project. First of all, you should assess the demographics data in terms of missing data. Pay attention to the following points as you perform your analysis, and take notes on what you observe. Make sure that you fill in the **Discussion** cell with your findings and decisions at the end of each step that has one!\n",
        "\n",
        "#### Step 1.1.1: Convert Missing Value Codes to NaNs\n",
        "The fourth column of the feature attributes summary (loaded in above as `feat_info`) documents the codes from the data dictionary that indicate missing or unknown data. While the file encodes this as a list (e.g. `[-1,0]`), this will get read in as a string object. You'll need to do a little bit of parsing to make use of it to identify and clean the data. Convert data that matches a 'missing' or 'unknown' value code into a numpy NaN value. You might want to see how much data takes on a 'missing' or 'unknown' code, and how much data is naturally missing, as a point of interest.\n",
        "\n",
        "**As one more reminder, you are encouraged to add additional cells to break up your analysis into manageable chunks.**"
      ],
      "metadata": {}
    },
    {
      "cell_type": "code",
      "source": [
        "#removing duplicate rows\n",
        "azdias = azdias.drop_duplicates()\n",
        "len(azdias)"
      ],
      "outputs": [
        {
          "output_type": "execute_result",
          "execution_count": 4,
          "data": {
            "text/plain": [
              "838727"
            ]
          },
          "metadata": {}
        }
      ],
      "execution_count": 4,
      "metadata": {}
    },
    {
      "cell_type": "code",
      "source": [
        "# Identify missing or unknown data values and convert them to NaNs.\n",
        "for i in range(azdias.shape[1]):\n",
        "    column = azdias.columns[i]\n",
        "    nan = feat_info.iloc[i, 3]\n",
        "    nan = nan.replace('[','').replace(']','').split(',')\n",
        "    if nan != ['']:\n",
        "        for n in nan:\n",
        "            if azdias[column].dtype == 'object':\n",
        "                azdias.loc[azdias[column]==n, column] = np.nan\n",
        "            else:\n",
        "                n = int(n)\n",
        "                azdias.loc[azdias[column]==n, column] = np.nan\n",
        "print('Total number of missing values after conversion to NaNs is: {}'.format(azdias.isnull().sum().sum()))"
      ],
      "outputs": [
        {
          "output_type": "stream",
          "name": "stdout",
          "text": [
            "Total number of missing values after conversion to NaNs is: 5633828\n"
          ]
        }
      ],
      "execution_count": 5,
      "metadata": {}
    },
    {
      "cell_type": "markdown",
      "source": [
        "#### Step 1.1.2: Assess Missing Data in Each Column\n",
        "\n",
        "How much missing data is present in each column? There are a few columns that are outliers in terms of the proportion of values that are missing. You will want to use matplotlib's [`hist()`](https://matplotlib.org/api/_as_gen/matplotlib.pyplot.hist.html) function to visualize the distribution of missing value counts to find these columns. Identify and document these columns. While some of these columns might have justifications for keeping or re-encoding the data, for this project you should just remove them from the dataframe. (Feel free to make remarks about these outlier columns in the discussion, however!)\n",
        "\n",
        "For the remaining features, are there any patterns in which columns have, or share, missing data?"
      ],
      "metadata": {}
    },
    {
      "cell_type": "code",
      "source": [
        "# Perform an assessment of how much missing data there is in each column of the\n",
        "# dataset.\n",
        "nans = azdias.isnull().sum()\n",
        "nans"
      ],
      "outputs": [
        {
          "output_type": "execute_result",
          "execution_count": 6,
          "data": {
            "text/plain": [
              "AGER_TYP                 633352\n",
              "ALTERSKATEGORIE_GROB       2881\n",
              "ANREDE_KZ                     0\n",
              "CJT_GESAMTTYP              4854\n",
              "FINANZ_MINIMALIST             0\n",
              "FINANZ_SPARER                 0\n",
              "FINANZ_VORSORGER              0\n",
              "FINANZ_ANLEGER                0\n",
              "FINANZ_UNAUFFAELLIGER         0\n",
              "FINANZ_HAUSBAUER              0\n",
              "FINANZTYP                     0\n",
              "GEBURTSJAHR              339825\n",
              "GFK_URLAUBERTYP            4854\n",
              "GREEN_AVANTGARDE              0\n",
              "HEALTH_TYP                59086\n",
              "LP_LEBENSPHASE_FEIN       51846\n",
              "LP_LEBENSPHASE_GROB       48794\n",
              "LP_FAMILIE_FEIN           32217\n",
              "LP_FAMILIE_GROB           32217\n",
              "LP_STATUS_FEIN             4854\n",
              "LP_STATUS_GROB             4854\n",
              "NATIONALITAET_KZ          56205\n",
              "PRAEGENDE_JUGENDJAHRE     55869\n",
              "RETOURTYP_BK_S             4854\n",
              "SEMIO_SOZ                     0\n",
              "SEMIO_FAM                     0\n",
              "SEMIO_REL                     0\n",
              "SEMIO_MAT                     0\n",
              "SEMIO_VERT                    0\n",
              "SEMIO_LUST                    0\n",
              "                          ...  \n",
              "OST_WEST_KZ               40992\n",
              "WOHNLAGE                  40992\n",
              "CAMEO_DEUG_2015           47190\n",
              "CAMEO_DEU_2015            47190\n",
              "CAMEO_INTL_2015           47190\n",
              "KBA05_ANTG1               81165\n",
              "KBA05_ANTG2               81165\n",
              "KBA05_ANTG3               81165\n",
              "KBA05_ANTG4               81165\n",
              "KBA05_BAUMAX             424261\n",
              "KBA05_GBZ                 81165\n",
              "BALLRAUM                  41584\n",
              "EWDICHTE                  41584\n",
              "INNENSTADT                41584\n",
              "GEBAEUDETYP_RASTER        40999\n",
              "KKK                      105893\n",
              "MOBI_REGIO                81165\n",
              "ONLINE_AFFINITAET          4854\n",
              "REGIOTYP                 105893\n",
              "KBA13_ANZAHL_PKW          53618\n",
              "PLZ8_ANTG1                64333\n",
              "PLZ8_ANTG2                64333\n",
              "PLZ8_ANTG3                64333\n",
              "PLZ8_ANTG4                64333\n",
              "PLZ8_BAUMAX               64333\n",
              "PLZ8_HHZ                  64333\n",
              "PLZ8_GBZ                  64333\n",
              "ARBEIT                    45218\n",
              "ORTSGR_KLS9               45117\n",
              "RELAT_AB                  45218\n",
              "Length: 85, dtype: int64"
            ]
          },
          "metadata": {}
        }
      ],
      "execution_count": 6,
      "metadata": {}
    },
    {
      "cell_type": "markdown",
      "source": [
        "# Investigate patterns in the amount of missing data in each column.\n",
        "fig = go.Figure(data=[go.Histogram(x=nans)])\n",
        "fig.show()"
      ],
      "metadata": {
        "nteract": {
          "transient": {
            "deleting": false
          }
        }
      }
    },
    {
      "cell_type": "code",
      "source": [
        "#detecting outliers\n",
        "azdias_outliers = azdias.loc[:, (azdias.isnull().sum(axis=0) > 200000)]\n",
        "for col in azdias_outliers.columns:\n",
        "    print(col)"
      ],
      "outputs": [
        {
          "output_type": "stream",
          "name": "stdout",
          "text": [
            "AGER_TYP\n",
            "GEBURTSJAHR\n",
            "TITEL_KZ\n",
            "ALTER_HH\n",
            "KK_KUNDENTYP\n",
            "KBA05_BAUMAX\n"
          ]
        }
      ],
      "execution_count": 8,
      "metadata": {}
    },
    {
      "cell_type": "code",
      "source": [
        "azdias_outliers.info()"
      ],
      "outputs": [
        {
          "output_type": "stream",
          "name": "stdout",
          "text": [
            "<class 'pandas.core.frame.DataFrame'>\n",
            "Int64Index: 838727 entries, 0 to 891220\n",
            "Data columns (total 6 columns):\n",
            "AGER_TYP        205375 non-null float64\n",
            "GEBURTSJAHR     498902 non-null float64\n",
            "TITEL_KZ        2160 non-null float64\n",
            "ALTER_HH        580950 non-null float64\n",
            "KK_KUNDENTYP    306609 non-null float64\n",
            "KBA05_BAUMAX    414466 non-null float64\n",
            "dtypes: float64(6)\n",
            "memory usage: 44.8 MB\n"
          ]
        }
      ],
      "execution_count": 9,
      "metadata": {}
    },
    {
      "cell_type": "markdown",
      "source": [
        "# Remove the outlier columns from the dataset. (You'll perform other data\n",
        "# engineering tasks such as re-encoding and imputation later.)\n",
        "azdias = azdias.loc[:, (azdias.isnull().sum(axis=0) <= 200000)]\n",
        "#checking NaNs distribution after filtering\n",
        "nans_filter = azdias.isnull().sum()\n",
        "fig = go.Figure(data=[go.Histogram(x=nans_filter)])\n",
        "fig.show()"
      ],
      "metadata": {
        "nteract": {
          "transient": {
            "deleting": false
          }
        }
      }
    },
    {
      "cell_type": "markdown",
      "source": [
        "#### Discussion 1.1.2: Assess Missing Data in Each Column\n",
        "These columns have been dropped from azdias dataframe: [AGER_TYP,GEBURTSJAHR,TITEL_KZ,ALTER_HH,KK_KUNDENTYP,KBA05_BAUMAX] as they have outlier ranges from 300k to 900k NaNs. I think they're null due to there reference as personal details that the data entry clerks might not give attention to their status, except for ['KK_KUNDENTYP']."
      ],
      "metadata": {}
    },
    {
      "cell_type": "markdown",
      "source": [
        "#### Step 1.1.3: Assess Missing Data in Each Row\n",
        "\n",
        "Now, you'll perform a similar assessment for the rows of the dataset. How much data is missing in each row? As with the columns, you should see some groups of points that have a very different numbers of missing values. Divide the data into two subsets: one for data points that are above some threshold for missing values, and a second subset for points below that threshold.\n",
        "\n",
        "In order to know what to do with the outlier rows, we should see if the distribution of data values on columns that are not missing data (or are missing very little data) are similar or different between the two groups. Select at least five of these columns and compare the distribution of values.\n",
        "- You can use seaborn's [`countplot()`](https://seaborn.pydata.org/generated/seaborn.countplot.html) function to create a bar chart of code frequencies and matplotlib's [`subplot()`](https://matplotlib.org/api/_as_gen/matplotlib.pyplot.subplot.html) function to put bar charts for the two subplots side by side.\n",
        "- To reduce repeated code, you might want to write a function that can perform this comparison, taking as one of its arguments a column to be compared.\n",
        "\n",
        "Depending on what you observe in your comparison, this will have implications on how you approach your conclusions later in the analysis. If the distributions of non-missing features look similar between the data with many missing values and the data with few or no missing values, then we could argue that simply dropping those points from the analysis won't present a major issue. On the other hand, if the data with many missing values looks very different from the data with few or no missing values, then we should make a note on those data as special. We'll revisit these data later on. **Either way, you should continue your analysis for now using just the subset of the data with few or no missing values.**"
      ],
      "metadata": {}
    },
    {
      "cell_type": "markdown",
      "source": [
        "# How much data is missing in each row of the dataset?\n",
        "nans_rows = azdias.isnull().sum(axis=1)\n",
        "fig = go.Figure(data=[go.Histogram(x=nans_rows)])\n",
        "fig.show()"
      ],
      "metadata": {
        "nteract": {
          "transient": {
            "deleting": false
          }
        }
      }
    },
    {
      "cell_type": "markdown",
      "source": [
        "# Write code to divide the data into two subsets based on the number of missing\n",
        "# values in each row.\n",
        "azdias_1 = azdias.loc[(azdias.isnull().sum(axis=1) >= 30), :]\n",
        "azdias_2 = azdias.loc[(azdias.isnull().sum(axis=1) < 30), :]\n",
        "nans_1 = azdias_1.isnull().sum(axis=1)\n",
        "nans_2 = azdias_2.isnull().sum(axis=1)\n",
        "\n",
        "fig = make_subplots(rows=1, cols=2)\n",
        "fig.add_trace(go.Histogram(x=nans_1, name= \">=30\"), row=1, col=1)\n",
        "fig.add_trace(go.Histogram(x=nans_2, name= \"<30\"), row=1, col=2)\n",
        "fig.update_layout(height=600, width=800, title_text=\"Side By Side Subplots\")\n",
        "fig.show()"
      ],
      "metadata": {
        "nteract": {
          "transient": {
            "deleting": false
          }
        }
      }
    },
    {
      "cell_type": "code",
      "source": [
        "print(\"Percentage of NaNs above 30 is: {}%\".format(round(azdias_1.shape[0]/azdias.shape[0]*100,2)))\n",
        "print(\"Percentage of NaNs below 30 is: {}%\".format(round(azdias_2.shape[0]/azdias.shape[0]*100,2)))"
      ],
      "outputs": [
        {
          "output_type": "stream",
          "name": "stdout",
          "text": [
            "Percentage of NaNs above 30 is: 4.89%\n",
            "Percentage of NaNs below 30 is: 95.11%\n"
          ]
        }
      ],
      "execution_count": 13,
      "metadata": {}
    },
    {
      "cell_type": "code",
      "source": [
        "#columns with zero NaN values\n",
        "zero_nans = []\n",
        "for i in range(nans.shape[0]):\n",
        "    if nans[i] == 0:\n",
        "        zero_nans.append(nans.index[i])\n",
        "zero_nans"
      ],
      "outputs": [
        {
          "output_type": "execute_result",
          "execution_count": 14,
          "data": {
            "text/plain": [
              "['ANREDE_KZ',\n",
              " 'FINANZ_MINIMALIST',\n",
              " 'FINANZ_SPARER',\n",
              " 'FINANZ_VORSORGER',\n",
              " 'FINANZ_ANLEGER',\n",
              " 'FINANZ_UNAUFFAELLIGER',\n",
              " 'FINANZ_HAUSBAUER',\n",
              " 'FINANZTYP',\n",
              " 'GREEN_AVANTGARDE',\n",
              " 'SEMIO_SOZ',\n",
              " 'SEMIO_FAM',\n",
              " 'SEMIO_REL',\n",
              " 'SEMIO_MAT',\n",
              " 'SEMIO_VERT',\n",
              " 'SEMIO_LUST',\n",
              " 'SEMIO_ERL',\n",
              " 'SEMIO_KULT',\n",
              " 'SEMIO_RAT',\n",
              " 'SEMIO_KRIT',\n",
              " 'SEMIO_DOM',\n",
              " 'SEMIO_KAEM',\n",
              " 'SEMIO_PFLICHT',\n",
              " 'SEMIO_TRADV',\n",
              " 'ZABEOTYP']"
            ]
          },
          "metadata": {}
        }
      ],
      "execution_count": 14,
      "metadata": {}
    },
    {
      "cell_type": "raw",
      "source": [
        "# Compare the distribution of values for at least five columns where there are\n",
        "# no or few missing values, between the two subsets.\n",
        "def subplots(col_name):\n",
        "    fig = make_subplots(rows=1, cols=2)\n",
        "    fig.add_trace(go.Histogram(x=azdias_1[col_name], name= \"more missing values\"), row=1, col=1)\n",
        "    fig.add_trace(go.Histogram(x=azdias_2[col_name], name= \"less missing values\"), row=1, col=2)\n",
        "    fig.update_layout(height=600, width=800, title_text=col_name)\n",
        "    fig.show()\n",
        "for i in range(5):\n",
        "    subplots(zero_nans[i])"
      ],
      "metadata": {
        "scrolled": false
      }
    },
    {
      "cell_type": "markdown",
      "source": [
        "#### Discussion 1.1.3: Assess Missing Data in Each Row\n",
        "In accordance with the row analysis and the column-comparison analysis, we ended up with two datasets, the first tells us that only 5% of the whole azdias has rows of more than or equal to 30 NaNs, while the second tells us that 95% of the azdias dataset has rows of less than 30 NaNs which will lead us to drop the 5%-rows with no worry of affecting the further analysis negatively. Also, the column-comparison analysis will lead us to the same result."
      ],
      "metadata": {}
    },
    {
      "cell_type": "markdown",
      "source": [
        "### Step 1.2: Select and Re-Encode Features\n",
        "\n",
        "Checking for missing data isn't the only way in which you can prepare a dataset for analysis. Since the unsupervised learning techniques to be used will only work on data that is encoded numerically, you need to make a few encoding changes or additional assumptions to be able to make progress. In addition, while almost all of the values in the dataset are encoded using numbers, not all of them represent numeric values. Check the third column of the feature summary (`feat_info`) for a summary of types of measurement.\n",
        "- For numeric and interval data, these features can be kept without changes.\n",
        "- Most of the variables in the dataset are ordinal in nature. While ordinal values may technically be non-linear in spacing, make the simplifying assumption that the ordinal variables can be treated as being interval in nature (that is, kept without any changes).\n",
        "- Special handling may be necessary for the remaining two variable types: categorical, and 'mixed'.\n",
        "\n",
        "In the first two parts of this sub-step, you will perform an investigation of the categorical and mixed-type features and make a decision on each of them, whether you will keep, drop, or re-encode each. Then, in the last part, you will create a new data frame with only the selected and engineered columns.\n",
        "\n",
        "Data wrangling is often the trickiest part of the data analysis process, and there's a lot of it to be done here. But stick with it: once you're done with this step, you'll be ready to get to the machine learning parts of the project!"
      ],
      "metadata": {}
    },
    {
      "cell_type": "code",
      "source": [
        "# How many features are there of each data type?\n",
        "azdias = azdias_2 #converting to deal with the subset that has fewer or no NaNs\n",
        "feat_info = feat_info[feat_info.attribute.isin(list(azdias.columns.values))]\n",
        "feat_info['type'].value_counts()"
      ],
      "outputs": [
        {
          "output_type": "execute_result",
          "execution_count": 15,
          "data": {
            "text/plain": [
              "ordinal        49\n",
              "categorical    18\n",
              "mixed           6\n",
              "numeric         6\n",
              "Name: type, dtype: int64"
            ]
          },
          "metadata": {}
        }
      ],
      "execution_count": 15,
      "metadata": {}
    },
    {
      "cell_type": "markdown",
      "source": [
        "#### Step 1.2.1: Re-Encode Categorical Features\n",
        "\n",
        "For categorical data, you would ordinarily need to encode the levels as dummy variables. Depending on the number of categories, perform one of the following:\n",
        "- For binary (two-level) categoricals that take numeric values, you can keep them without needing to do anything.\n",
        "- There is one binary variable that takes on non-numeric values. For this one, you need to re-encode the values as numbers or create a dummy variable.\n",
        "- For multi-level categoricals (three or more values), you can choose to encode the values using multiple dummy variables (e.g. via [OneHotEncoder](http://scikit-learn.org/stable/modules/generated/sklearn.preprocessing.OneHotEncoder.html)), or (to keep things straightforward) just drop them from the analysis. As always, document your choices in the Discussion section."
      ],
      "metadata": {}
    },
    {
      "cell_type": "code",
      "source": [
        "# Assess categorical variables: which are binary, which are multi-level, and\n",
        "# which one needs to be re-encoded?\n",
        "binary = []\n",
        "multi_level = []\n",
        "azdias_cat = feat_info[feat_info.type=='categorical']\n",
        "for col in azdias_cat.attribute.values:\n",
        "    if azdias[col].nunique() <= 2:\n",
        "        binary.append(col)\n",
        "    else:\n",
        "        multi_level.append(col)\n",
        "print(\"binary attributes: {}\".format(binary))\n",
        "print(\"====================================\")\n",
        "print(\"multi_level attributes: {}\".format(multi_level))"
      ],
      "outputs": [
        {
          "output_type": "stream",
          "name": "stdout",
          "text": [
            "binary attributes: ['ANREDE_KZ', 'GREEN_AVANTGARDE', 'SOHO_KZ', 'VERS_TYP', 'OST_WEST_KZ']\n",
            "====================================\n",
            "multi_level attributes: ['CJT_GESAMTTYP', 'FINANZTYP', 'GFK_URLAUBERTYP', 'LP_FAMILIE_FEIN', 'LP_FAMILIE_GROB', 'LP_STATUS_FEIN', 'LP_STATUS_GROB', 'NATIONALITAET_KZ', 'SHOPPER_TYP', 'ZABEOTYP', 'GEBAEUDETYP', 'CAMEO_DEUG_2015', 'CAMEO_DEU_2015']\n"
          ]
        }
      ],
      "execution_count": 16,
      "metadata": {}
    },
    {
      "cell_type": "code",
      "source": [
        "# Re-encode categorical variable(s) to be kept in the analysis.\n",
        "#dropping multi_level columns\n",
        "azdias_clean = azdias.drop(multi_level, axis=1)\n",
        "#re-enocding bianry columns\n",
        "azdias_clean = pd.get_dummies(azdias_clean, columns=binary)"
      ],
      "outputs": [],
      "execution_count": 17,
      "metadata": {}
    },
    {
      "cell_type": "markdown",
      "source": [
        "#### Discussion 1.2.1: Re-Encode Categorical Features\n",
        "Categorical features are divided into binary and multi_level features, the latter is dropped and the binary features are re-encoded with pd.get_dummies() to standarize the codes"
      ],
      "metadata": {}
    },
    {
      "cell_type": "markdown",
      "source": [
        "#### Step 1.2.2: Engineer Mixed-Type Features\n",
        "\n",
        "There are a handful of features that are marked as \"mixed\" in the feature summary that require special treatment in order to be included in the analysis. There are two in particular that deserve attention; the handling of the rest are up to your own choices:\n",
        "- \"PRAEGENDE_JUGENDJAHRE\" combines information on three dimensions: generation by decade, movement (mainstream vs. avantgarde), and nation (east vs. west). While there aren't enough levels to disentangle east from west, you should create two new variables to capture the other two dimensions: an interval-type variable for decade, and a binary variable for movement.\n",
        "- \"CAMEO_INTL_2015\" combines information on two axes: wealth and life stage. Break up the two-digit codes by their 'tens'-place and 'ones'-place digits into two new ordinal variables (which, for the purposes of this project, is equivalent to just treating them as their raw numeric values).\n",
        "- If you decide to keep or engineer new features around the other mixed-type features, make sure you note your steps in the Discussion section.\n",
        "\n",
        "Be sure to check `Data_Dictionary.md` for the details needed to finish these tasks."
      ],
      "metadata": {}
    },
    {
      "cell_type": "code",
      "source": [
        "azdias_mixed = feat_info[feat_info.type=='mixed']\n",
        "azdias_mixed"
      ],
      "outputs": [
        {
          "output_type": "execute_result",
          "execution_count": 18,
          "data": {
            "text/html": [
              "<div>\n",
              "<style scoped>\n",
              "    .dataframe tbody tr th:only-of-type {\n",
              "        vertical-align: middle;\n",
              "    }\n",
              "\n",
              "    .dataframe tbody tr th {\n",
              "        vertical-align: top;\n",
              "    }\n",
              "\n",
              "    .dataframe thead th {\n",
              "        text-align: right;\n",
              "    }\n",
              "</style>\n",
              "<table border=\"1\" class=\"dataframe\">\n",
              "  <thead>\n",
              "    <tr style=\"text-align: right;\">\n",
              "      <th></th>\n",
              "      <th>attribute</th>\n",
              "      <th>information_level</th>\n",
              "      <th>type</th>\n",
              "      <th>missing_or_unknown</th>\n",
              "    </tr>\n",
              "  </thead>\n",
              "  <tbody>\n",
              "    <tr>\n",
              "      <th>15</th>\n",
              "      <td>LP_LEBENSPHASE_FEIN</td>\n",
              "      <td>person</td>\n",
              "      <td>mixed</td>\n",
              "      <td>[0]</td>\n",
              "    </tr>\n",
              "    <tr>\n",
              "      <th>16</th>\n",
              "      <td>LP_LEBENSPHASE_GROB</td>\n",
              "      <td>person</td>\n",
              "      <td>mixed</td>\n",
              "      <td>[0]</td>\n",
              "    </tr>\n",
              "    <tr>\n",
              "      <th>22</th>\n",
              "      <td>PRAEGENDE_JUGENDJAHRE</td>\n",
              "      <td>person</td>\n",
              "      <td>mixed</td>\n",
              "      <td>[-1,0]</td>\n",
              "    </tr>\n",
              "    <tr>\n",
              "      <th>56</th>\n",
              "      <td>WOHNLAGE</td>\n",
              "      <td>building</td>\n",
              "      <td>mixed</td>\n",
              "      <td>[-1]</td>\n",
              "    </tr>\n",
              "    <tr>\n",
              "      <th>59</th>\n",
              "      <td>CAMEO_INTL_2015</td>\n",
              "      <td>microcell_rr4</td>\n",
              "      <td>mixed</td>\n",
              "      <td>[-1,XX]</td>\n",
              "    </tr>\n",
              "    <tr>\n",
              "      <th>79</th>\n",
              "      <td>PLZ8_BAUMAX</td>\n",
              "      <td>macrocell_plz8</td>\n",
              "      <td>mixed</td>\n",
              "      <td>[-1,0]</td>\n",
              "    </tr>\n",
              "  </tbody>\n",
              "</table>\n",
              "</div>"
            ],
            "text/plain": [
              "                attribute information_level   type missing_or_unknown\n",
              "15    LP_LEBENSPHASE_FEIN            person  mixed                [0]\n",
              "16    LP_LEBENSPHASE_GROB            person  mixed                [0]\n",
              "22  PRAEGENDE_JUGENDJAHRE            person  mixed             [-1,0]\n",
              "56               WOHNLAGE          building  mixed               [-1]\n",
              "59        CAMEO_INTL_2015     microcell_rr4  mixed            [-1,XX]\n",
              "79            PLZ8_BAUMAX    macrocell_plz8  mixed             [-1,0]"
            ]
          },
          "metadata": {}
        }
      ],
      "execution_count": 18,
      "metadata": {}
    },
    {
      "cell_type": "code",
      "source": [
        "#investigating data types in each column\n",
        "print(azdias_clean[\"PRAEGENDE_JUGENDJAHRE\"].dtype)\n",
        "print(azdias_clean[\"CAMEO_INTL_2015\"].dtype)"
      ],
      "outputs": [
        {
          "output_type": "stream",
          "name": "stdout",
          "text": [
            "float64\n",
            "object\n"
          ]
        }
      ],
      "execution_count": 19,
      "metadata": {}
    },
    {
      "cell_type": "code",
      "source": [
        "# Investigate \"PRAEGENDE_JUGENDJAHRE\" and engineer two new variables.\n",
        "#mapping \"PRAEGENDE_JUGENDJAHRE\" with dictionaries\n",
        "decade = {1:1, 2:1, 3:2, 4:2, 5:3, 6:3, 7:3, 8:4, 9:4, 10:5, 11:5, 12:5, 13:5, 14:6, 15:6}\n",
        "movement = {1:1, 2:0, 3:1, 4:0, 5:1, 6:0, 7:0, 8:1, 9:0, 10:1, 11:0, 12:1, 13:0, 14:1, 15:0}\n",
        "azdias_clean['DECADE'] = azdias_clean[\"PRAEGENDE_JUGENDJAHRE\"].map(decade)\n",
        "azdias_clean['MOVEMENT'] = azdias_clean[\"PRAEGENDE_JUGENDJAHRE\"].map(movement)"
      ],
      "outputs": [],
      "execution_count": 20,
      "metadata": {}
    },
    {
      "cell_type": "code",
      "source": [
        "# Investigate \"CAMEO_INTL_2015\" and engineer two new variables.\n",
        "wealth = {'11':1, '12':1, '13':1, '14':1, '15':1, '21':2, '22':2, '23':2, '24':2, '25':2,\n",
        "          '31':3, '32':3, '33':3, '34':3, '35':3, '41':4, '42':4, '43':4, '44':4, '45':4,\n",
        "          '51':5, '52':5, '53':5, '54':5, '55':5}\n",
        "life_stage = {'11':1, '12':2, '13':3, '14':4, '15':5, '21':1, '22':2, '23':3, '24':4, '25':5,\n",
        "              '31':1, '32':2, '33':3, '34':4, '35':5, '41':1, '42':2, '43':3, '44':4, '45':5,\n",
        "              '51':1, '52':2, '53':3, '54':4, '55':5}\n",
        "azdias_clean['WEALTH'] = azdias_clean[\"CAMEO_INTL_2015\"].map(wealth)\n",
        "azdias_clean['LIFE_STAGE'] = azdias_clean[\"CAMEO_INTL_2015\"].map(life_stage)\n",
        "azdias_clean = azdias_clean.drop([\"PRAEGENDE_JUGENDJAHRE\", \"CAMEO_INTL_2015\"], axis=1) \n",
        "azdias_clean.shape"
      ],
      "outputs": [
        {
          "output_type": "execute_result",
          "execution_count": 21,
          "data": {
            "text/plain": [
              "(797723, 73)"
            ]
          },
          "metadata": {}
        }
      ],
      "execution_count": 21,
      "metadata": {}
    },
    {
      "cell_type": "markdown",
      "source": [
        "#### Discussion 1.2.2: Engineer Mixed-Type Features\n",
        "To perfectly deal with \"PRAEGENDE_JUGENDJAHRE\" and \"CAMEO_INTL_2015\", a lookup to Data_Dictionary.md was made to determine how to create new two variables per initial variable to be able to encode them as numerical values, so two dictionaries per variable are initialized and then mapped with their original variable to fill in the new variables with encoded values."
      ],
      "metadata": {}
    },
    {
      "cell_type": "markdown",
      "source": [
        "#### Step 1.2.3: Complete Feature Selection\n",
        "\n",
        "In order to finish this step up, you need to make sure that your data frame now only has the columns that you want to keep. To summarize, the dataframe should consist of the following:\n",
        "- All numeric, interval, and ordinal type columns from the original dataset.\n",
        "- Binary categorical features (all numerically-encoded).\n",
        "- Engineered features from other multi-level categorical features and mixed features.\n",
        "\n",
        "Make sure that for any new columns that you have engineered, that you've excluded the original columns from the final dataset. Otherwise, their values will interfere with the analysis later on the project. For example, you should not keep \"PRAEGENDE_JUGENDJAHRE\", since its values won't be useful for the algorithm: only the values derived from it in the engineered features you created should be retained. As a reminder, your data should only be from **the subset with few or no missing values**."
      ],
      "metadata": {}
    },
    {
      "cell_type": "code",
      "source": [
        "#checking for NaNs\n",
        "azdias_clean.isnull().sum().sum()"
      ],
      "outputs": [
        {
          "output_type": "execute_result",
          "execution_count": 22,
          "data": {
            "text/plain": [
              "846807"
            ]
          },
          "metadata": {}
        }
      ],
      "execution_count": 22,
      "metadata": {}
    },
    {
      "cell_type": "code",
      "source": [
        "#filling NaNs with most frequent values\n",
        "azdias_clean = azdias_clean.fillna(azdias_clean.apply(lambda x: x.value_counts().index[0]))\n",
        "azdias_clean.isnull().sum().sum()"
      ],
      "outputs": [
        {
          "output_type": "execute_result",
          "execution_count": 23,
          "data": {
            "text/plain": [
              "0"
            ]
          },
          "metadata": {}
        }
      ],
      "execution_count": 23,
      "metadata": {}
    },
    {
      "cell_type": "markdown",
      "source": [
        "### Step 1.3: Create a Cleaning Function\n",
        "\n",
        "Even though you've finished cleaning up the general population demographics data, it's important to look ahead to the future and realize that you'll need to perform the same cleaning steps on the customer demographics data. In this substep, complete the function below to execute the main feature selection, encoding, and re-engineering steps you performed above. Then, when it comes to looking at the customer data in Step 3, you can just run this function on that DataFrame to get the trimmed dataset in a single step."
      ],
      "metadata": {}
    },
    {
      "cell_type": "code",
      "source": [
        "def clean_data(df):\n",
        "    \"\"\"\n",
        "    Perform feature trimming, re-encoding, and engineering for demographics\n",
        "    data\n",
        "    \n",
        "    INPUT: Demographics DataFrame\n",
        "    OUTPUT: Trimmed and cleaned demographics DataFrame\n",
        "    \"\"\"\n",
        "    #reading summary file\n",
        "    feat_info = pd.read_csv('./AZDIAS_Feature_Summary.csv', delimiter = ';')\n",
        "    #performing basic cleaning\n",
        "    for i in range(df.shape[1]):\n",
        "        column = df.columns[i]\n",
        "        nan = feat_info.iloc[i, 3]\n",
        "        nan = nan.replace('[','').replace(']','').split(',')\n",
        "        if nan != ['']:\n",
        "            for n in nan:\n",
        "                if df[column].dtype == 'object':\n",
        "                    df.loc[df[column]==n, column] = np.nan\n",
        "                else:\n",
        "                    n = int(n)\n",
        "                    df.loc[df[column]==n, column] = np.nan\n",
        "                \n",
        "    #converting to data frame with less number of NaNs across columns and rows           \n",
        "    df = df.loc[(df.isnull().sum(axis=1) < 30), (df.isnull().sum(axis=0) <= 200000)]\n",
        "    feat_info = feat_info[feat_info.attribute.isin(list(df.columns.values))]\n",
        "    \n",
        "    #re-enocding categorical bianry columns and dropping multi_level categorical columns\n",
        "    binary = []\n",
        "    multi_level = []\n",
        "    df_cat = feat_info[feat_info.type=='categorical']\n",
        "    for col in df_cat.attribute.values:\n",
        "        if df[col].nunique() <= 2:\n",
        "            binary.append(col)\n",
        "        else:\n",
        "            multi_level.append(col)\n",
        "    for i in multi_level:\n",
        "        df = df.drop(i, axis=1)\n",
        "    df = pd.get_dummies(df, columns=binary)\n",
        "    \n",
        "    #mapping new variables with dictionaries from df[\"PRAEGENDE_JUGENDJAHRE\"]'s and df[\"CAMEO_INTL_2015\"]'s values\n",
        "    decade = {1:1, 2:1, 3:2, 4:2, 5:3, 6:3, 7:3, 8:4, 9:4, 10:5, 11:5, 12:5, 13:5, 14:6, 15:6}\n",
        "    movement = {1:1, 2:0, 3:1, 4:0, 5:1, 6:0, 7:0, 8:1, 9:0, 10:1, 11:0, 12:1, 13:0, 14:1, 15:0}\n",
        "    wealth = {'11':1, '12':1, '13':1, '14':1, '15':1, '21':2, '22':2, '23':2, '24':2, '25':2,\n",
        "              '31':3, '32':3, '33':3, '34':3, '35':3, '41':4, '42':4, '43':4, '44':4, '45':4,\n",
        "              '51':5, '52':5, '53':5, '54':5, '55':5}\n",
        "    life_stage = {'11':1, '12':2, '13':3, '14':4, '15':5, '21':1, '22':2, '23':3, '24':4, '25':5,\n",
        "                  '31':1, '32':2, '33':3, '34':4, '35':5, '41':1, '42':2, '43':3, '44':4, '45':5,\n",
        "                  '51':1, '52':2, '53':3, '54':4, '55':5}\n",
        "    df['DECADE'] = df[\"PRAEGENDE_JUGENDJAHRE\"].map(decade)\n",
        "    df['MOVEMENT'] = df[\"PRAEGENDE_JUGENDJAHRE\"].map(movement)\n",
        "    df['WEALTH'] = df[\"CAMEO_INTL_2015\"].map(wealth)\n",
        "    df['LIFE_STAGE'] = df[\"CAMEO_INTL_2015\"].map(life_stage)\n",
        "    df = df.drop([\"PRAEGENDE_JUGENDJAHRE\", \"CAMEO_INTL_2015\"], axis=1) #dropping no-need variables\n",
        "    df = df.fillna(df.apply(lambda x: x.value_counts().index[0])) #filling NaNs with the most frequent values\n",
        "    return df"
      ],
      "outputs": [],
      "execution_count": 24,
      "metadata": {}
    },
    {
      "cell_type": "code",
      "source": [
        "#making sure that the function is working properly\n",
        "df = pd.read_csv('./Udacity_AZDIAS_Subset.csv', delimiter = ';')\n",
        "df = clean_data(df)\n",
        "print(\"After executing the clean_df function, the number of NaNs is: {}\".format(df.isnull().sum().sum()))"
      ],
      "outputs": [
        {
          "output_type": "stream",
          "name": "stdout",
          "text": [
            "After executing the clean_df function, the number of NaNs is: 0\n"
          ]
        }
      ],
      "execution_count": 25,
      "metadata": {}
    },
    {
      "cell_type": "markdown",
      "source": [
        "## Step 2: Feature Transformation\n",
        "\n",
        "### Step 2.1: Apply Feature Scaling\n",
        "\n",
        "Before we apply dimensionality reduction techniques to the data, we need to perform feature scaling so that the principal component vectors are not influenced by the natural differences in scale for features. Starting from this part of the project, you'll want to keep an eye on the [API reference page for sklearn](http://scikit-learn.org/stable/modules/classes.html) to help you navigate to all of the classes and functions that you'll need. In this substep, you'll need to check the following:\n",
        "\n",
        "- sklearn requires that data not have missing values in order for its estimators to work properly. So, before applying the scaler to your data, make sure that you've cleaned the DataFrame of the remaining missing values. This can be as simple as just removing all data points with missing data, or applying an [Imputer](http://scikit-learn.org/stable/modules/generated/sklearn.preprocessing.Imputer.html) to replace all missing values. You might also try a more complicated procedure where you temporarily remove missing values in order to compute the scaling parameters before re-introducing those missing values and applying imputation. Think about how much missing data you have and what possible effects each approach might have on your analysis, and justify your decision in the discussion section below.\n",
        "- For the actual scaling function, a [StandardScaler](http://scikit-learn.org/stable/modules/generated/sklearn.preprocessing.StandardScaler.html) instance is suggested, scaling each feature to mean 0 and standard deviation 1.\n",
        "- For these classes, you can make use of the `.fit_transform()` method to both fit a procedure to the data as well as apply the transformation to the data at the same time. Don't forget to keep the fit sklearn objects handy, since you'll be applying them to the customer demographics data towards the end of the project."
      ],
      "metadata": {}
    },
    {
      "cell_type": "code",
      "source": [
        "# Apply feature scaling to the general population demographics data.\n",
        "from sklearn.preprocessing import StandardScaler\n",
        "scaler = StandardScaler()\n",
        "azdias_transform = scaler.fit_transform(azdias_clean)"
      ],
      "outputs": [],
      "execution_count": 26,
      "metadata": {}
    },
    {
      "cell_type": "markdown",
      "source": [
        "### Discussion 2.1: Apply Feature Scaling\n",
        "Dealing with NaNs and applying feature scaling are done thorugh:\n",
        "* filling all NaNs with the most frequent values in each column.\n",
        "* applying StandardScaler to scale the feature."
      ],
      "metadata": {}
    },
    {
      "cell_type": "markdown",
      "source": [
        "### Step 2.2: Perform Dimensionality Reduction\n",
        "\n",
        "On your scaled data, you are now ready to apply dimensionality reduction techniques.\n",
        "\n",
        "- Use sklearn's [PCA](http://scikit-learn.org/stable/modules/generated/sklearn.decomposition.PCA.html) class to apply principal component analysis on the data, thus finding the vectors of maximal variance in the data. To start, you should not set any parameters (so all components are computed) or set a number of components that is at least half the number of features (so there's enough features to see the general trend in variability).\n",
        "- Check out the ratio of variance explained by each principal component as well as the cumulative variance explained. Try plotting the cumulative or sequential values using matplotlib's [`plot()`](https://matplotlib.org/api/_as_gen/matplotlib.pyplot.plot.html) function. Based on what you find, select a value for the number of transformed features you'll retain for the clustering part of the project.\n",
        "- Once you've made a choice for the number of components to keep, make sure you re-fit a PCA instance to perform the decided-on transformation."
      ],
      "metadata": {}
    },
    {
      "cell_type": "code",
      "source": [
        "# Apply PCA to the data.\n",
        "from sklearn.decomposition import PCA\n",
        "pca = PCA()\n",
        "pca_fit = pca.fit(azdias_transform)"
      ],
      "outputs": [],
      "execution_count": 27,
      "metadata": {}
    },
    {
      "cell_type": "markdown",
      "source": [
        "# Investigate the variance accounted for by each principal component.\n",
        "rve = make_subplots(rows=1, cols=2)\n",
        "rve.add_trace(go.Bar(x=list(range(len(pca_fit.explained_variance_ratio_))),\n",
        "                     y=pca_fit.explained_variance_ratio_.tolist(),\n",
        "                     name= \"Explained Variance Ratio\"),row=1, col=1)\n",
        "rve.add_trace(go.Scatter(x=list(range(len(pca_fit.explained_variance_ratio_))),\n",
        "                         y=np.cumsum(pca_fit.explained_variance_ratio_.tolist()),\n",
        "                         name=\"Cummulative Variance Explained\",\n",
        "                         mode='lines+markers'), row=1, col=2)\n",
        "\n",
        "rve.update_layout(height=600, width=1000, title_text=\"Variance Explanation\")\n",
        "rve.show()"
      ],
      "metadata": {
        "nteract": {
          "transient": {
            "deleting": false
          }
        }
      }
    },
    {
      "cell_type": "code",
      "source": [
        "# Re-apply PCA to the data while selecting for number of components to retain.\n",
        "pca_36 = PCA(n_components=36)\n",
        "pca_azdias = pca_36.fit_transform(azdias_transform)"
      ],
      "outputs": [],
      "execution_count": 29,
      "metadata": {}
    },
    {
      "cell_type": "raw",
      "source": [
        "rve_36 = make_subplots(rows=1, cols=2)\n",
        "rve_36.add_trace(go.Bar(x=list(range(len(pca_azdias_fit.explained_variance_ratio_))),\n",
        "                        y=pca_azdias_fit.explained_variance_ratio_.tolist(),\n",
        "                        name= \"Explained Variance Ratio\"),row=1, col=1)\n",
        "rve_36.add_trace(go.Scatter(x=list(range(len(pca_azdias_fit.explained_variance_ratio_))),\n",
        "                            y=np.cumsum(pca_azdias_fit.explained_variance_ratio_.tolist()),\n",
        "                            name=\"Cummulative Variance Explained\",\n",
        "                            mode='lines+markers'), row=1, col=2)\n",
        "\n",
        "rve_36.update_layout(height=600, width=1000, title_text=\"Variance Explanation\")\n",
        "rve_36.show()"
      ],
      "metadata": {}
    },
    {
      "cell_type": "markdown",
      "source": [
        "### Discussion 2.2: Perform Dimensionality Reduction\n",
        "Although the cummulative explained varience ratio for the whole features is the almost the same for n_components=36, but I'll choose to reduce the diemnsions of the dataset"
      ],
      "metadata": {}
    },
    {
      "cell_type": "markdown",
      "source": [
        "### Step 2.3: Interpret Principal Components\n",
        "\n",
        "Now that we have our transformed principal components, it's a nice idea to check out the weight of each variable on the first few components to see if they can be interpreted in some fashion.\n",
        "\n",
        "As a reminder, each principal component is a unit vector that points in the direction of highest variance (after accounting for the variance captured by earlier principal components). The further a weight is from zero, the more the principal component is in the direction of the corresponding feature. If two features have large weights of the same sign (both positive or both negative), then increases in one tend expect to be associated with increases in the other. To contrast, features with different signs can be expected to show a negative correlation: increases in one variable should result in a decrease in the other.\n",
        "\n",
        "- To investigate the features, you should map each weight to their corresponding feature name, then sort the features according to weight. The most interesting features for each principal component, then, will be those at the beginning and end of the sorted list. Use the data dictionary document to help you understand these most prominent features, their relationships, and what a positive or negative value on the principal component might indicate.\n",
        "- You should investigate and interpret feature associations from the first three principal components in this substep. To help facilitate this, you should write a function that you can call at any time to print the sorted list of feature weights, for the *i*-th principal component. This might come in handy in the next step of the project, when you interpret the tendencies of the discovered clusters."
      ],
      "metadata": {}
    },
    {
      "cell_type": "code",
      "source": [
        "# Map weights for the first principal component to corresponding feature names\n",
        "# and then print the linked values, sorted by weight.\n",
        "# HINT: Try defining a function here or in a new cell that you can reuse in the\n",
        "# other cells.\n",
        "def pca_weights(pca_weights, i):\n",
        "    df = pd.DataFrame(pca_weights.components_, columns=list(azdias_clean.columns))\n",
        "    weights = df.iloc[i].sort_values(ascending=False)\n",
        "    return weights\n",
        "first_component = pca_weights(pca_36, 0)\n",
        "first_component"
      ],
      "outputs": [
        {
          "output_type": "execute_result",
          "execution_count": 30,
          "data": {
            "text/plain": [
              "PLZ8_ANTG3               0.220266\n",
              "PLZ8_ANTG4               0.213971\n",
              "PLZ8_BAUMAX              0.211355\n",
              "HH_EINKOMMEN_SCORE       0.199816\n",
              "WEALTH                   0.199697\n",
              "ORTSGR_KLS9              0.190779\n",
              "EWDICHTE                 0.187794\n",
              "FINANZ_HAUSBAUER         0.164845\n",
              "KBA05_ANTG4              0.151540\n",
              "PLZ8_ANTG2               0.148274\n",
              "ARBEIT                   0.140287\n",
              "ANZ_HAUSHALTE_AKTIV      0.134071\n",
              "KBA05_ANTG3              0.132952\n",
              "RELAT_AB                 0.130002\n",
              "FINANZ_SPARER            0.119008\n",
              "GREEN_AVANTGARDE_0       0.115242\n",
              "MOVEMENT                 0.115242\n",
              "SEMIO_PFLICHT            0.089128\n",
              "SEMIO_REL                0.085063\n",
              "DECADE                   0.079233\n",
              "SEMIO_RAT                0.074202\n",
              "SEMIO_TRADV              0.063161\n",
              "SEMIO_MAT                0.060378\n",
              "OST_WEST_KZ_O            0.060083\n",
              "W_KEIT_KIND_HH           0.058346\n",
              "SEMIO_FAM                0.058071\n",
              "REGIOTYP                 0.057690\n",
              "FINANZ_UNAUFFAELLIGER    0.050701\n",
              "FINANZ_ANLEGER           0.050400\n",
              "SEMIO_KULT               0.048728\n",
              "                           ...   \n",
              "RETOURTYP_BK_S          -0.002964\n",
              "ANZ_TITEL               -0.004373\n",
              "ANREDE_KZ_1.0           -0.014821\n",
              "VERS_TYP_1.0            -0.034827\n",
              "MIN_GEBAEUDEJAHR        -0.044713\n",
              "SEMIO_VERT              -0.044727\n",
              "SEMIO_ERL               -0.051704\n",
              "SEMIO_LUST              -0.052996\n",
              "WOHNDAUER_2008          -0.055137\n",
              "OST_WEST_KZ_W           -0.060083\n",
              "ONLINE_AFFINITAET       -0.063564\n",
              "KBA13_ANZAHL_PKW        -0.074816\n",
              "WOHNLAGE                -0.079179\n",
              "FINANZ_VORSORGER        -0.089929\n",
              "ALTERSKATEGORIE_GROB    -0.089994\n",
              "ANZ_PERSONEN            -0.096537\n",
              "GEBAEUDETYP_RASTER      -0.114917\n",
              "GREEN_AVANTGARDE_1      -0.115242\n",
              "LIFE_STAGE              -0.117013\n",
              "BALLRAUM                -0.121724\n",
              "LP_LEBENSPHASE_GROB     -0.133382\n",
              "LP_LEBENSPHASE_FEIN     -0.147444\n",
              "INNENSTADT              -0.159074\n",
              "KONSUMNAEHE             -0.162829\n",
              "PLZ8_GBZ                -0.165480\n",
              "FINANZ_MINIMALIST       -0.203702\n",
              "KBA05_ANTG1             -0.208168\n",
              "KBA05_GBZ               -0.210184\n",
              "MOBI_REGIO              -0.217919\n",
              "PLZ8_ANTG1              -0.221884\n",
              "Name: 0, Length: 73, dtype: float64"
            ]
          },
          "metadata": {}
        }
      ],
      "execution_count": 30,
      "metadata": {
        "scrolled": true
      }
    },
    {
      "cell_type": "code",
      "source": [
        "# Map weights for the second principal component to corresponding feature names\n",
        "# and then print the linked values, sorted by weight.\n",
        "second_component = pca_weights(pca_36, 1)\n",
        "second_component"
      ],
      "outputs": [
        {
          "output_type": "execute_result",
          "execution_count": 31,
          "data": {
            "text/plain": [
              "ALTERSKATEGORIE_GROB     0.257806\n",
              "SEMIO_ERL                0.250776\n",
              "FINANZ_VORSORGER         0.229655\n",
              "SEMIO_LUST               0.179560\n",
              "RETOURTYP_BK_S           0.149917\n",
              "SEMIO_KRIT               0.140529\n",
              "SEMIO_KAEM               0.140244\n",
              "ANREDE_KZ_2.0            0.125940\n",
              "W_KEIT_KIND_HH           0.101393\n",
              "FINANZ_HAUSBAUER         0.100463\n",
              "SEMIO_DOM                0.099734\n",
              "FINANZ_MINIMALIST        0.074556\n",
              "EWDICHTE                 0.064817\n",
              "ORTSGR_KLS9              0.063783\n",
              "WOHNDAUER_2008           0.061557\n",
              "PLZ8_ANTG3               0.060613\n",
              "PLZ8_ANTG4               0.060079\n",
              "PLZ8_BAUMAX              0.055196\n",
              "KBA05_ANTG4              0.048130\n",
              "ARBEIT                   0.047624\n",
              "RELAT_AB                 0.045459\n",
              "WEALTH                   0.044221\n",
              "ANZ_HAUSHALTE_AKTIV      0.042341\n",
              "PLZ8_ANTG2               0.041905\n",
              "VERS_TYP_2.0             0.032976\n",
              "HH_EINKOMMEN_SCORE       0.031820\n",
              "KBA05_ANTG3              0.028220\n",
              "ANZ_HH_TITEL             0.024982\n",
              "OST_WEST_KZ_O            0.019868\n",
              "LIFE_STAGE               0.018146\n",
              "                           ...   \n",
              "GEBAEUDETYP_RASTER      -0.027101\n",
              "VERS_TYP_1.0            -0.028847\n",
              "LP_LEBENSPHASE_GROB     -0.032147\n",
              "KBA05_ANTG1             -0.038813\n",
              "MIN_GEBAEUDEJAHR        -0.040318\n",
              "BALLRAUM                -0.042444\n",
              "WOHNLAGE                -0.042680\n",
              "MOBI_REGIO              -0.043296\n",
              "KONSUMNAEHE             -0.046314\n",
              "PLZ8_GBZ                -0.046929\n",
              "INNENSTADT              -0.051343\n",
              "ANZ_PERSONEN            -0.053989\n",
              "KBA05_GBZ               -0.055539\n",
              "PLZ8_ANTG1              -0.058344\n",
              "HEALTH_TYP              -0.058392\n",
              "SEMIO_VERT              -0.098478\n",
              "ANREDE_KZ_1.0           -0.125940\n",
              "SEMIO_SOZ               -0.130468\n",
              "ONLINE_AFFINITAET       -0.150556\n",
              "SEMIO_RAT               -0.155096\n",
              "SEMIO_MAT               -0.174380\n",
              "FINANZ_ANLEGER          -0.190249\n",
              "SEMIO_FAM               -0.214221\n",
              "FINANZ_UNAUFFAELLIGER   -0.221159\n",
              "SEMIO_TRADV             -0.226520\n",
              "SEMIO_PFLICHT           -0.228155\n",
              "FINANZ_SPARER           -0.236940\n",
              "DECADE                  -0.237682\n",
              "SEMIO_KULT              -0.247040\n",
              "SEMIO_REL               -0.269474\n",
              "Name: 1, Length: 73, dtype: float64"
            ]
          },
          "metadata": {}
        }
      ],
      "execution_count": 31,
      "metadata": {
        "scrolled": true
      }
    },
    {
      "cell_type": "code",
      "source": [
        "# Map weights for the third principal component to corresponding feature names\n",
        "# and then print the linked values, sorted by weight.\n",
        "third_component = pca_weights(pca_36, 2)\n",
        "third_component"
      ],
      "outputs": [
        {
          "output_type": "execute_result",
          "execution_count": 32,
          "data": {
            "text/plain": [
              "ANREDE_KZ_1.0            0.334820\n",
              "SEMIO_VERT               0.312854\n",
              "SEMIO_SOZ                0.228136\n",
              "SEMIO_FAM                0.204770\n",
              "SEMIO_KULT               0.188073\n",
              "FINANZ_MINIMALIST        0.157092\n",
              "FINANZ_VORSORGER         0.122487\n",
              "RETOURTYP_BK_S           0.120516\n",
              "ALTERSKATEGORIE_GROB     0.110157\n",
              "W_KEIT_KIND_HH           0.089095\n",
              "SEMIO_LUST               0.083240\n",
              "ORTSGR_KLS9              0.059648\n",
              "EWDICHTE                 0.058415\n",
              "PLZ8_BAUMAX              0.056416\n",
              "PLZ8_ANTG4               0.055304\n",
              "PLZ8_ANTG3               0.054172\n",
              "GREEN_AVANTGARDE_1       0.052753\n",
              "ARBEIT                   0.042655\n",
              "RELAT_AB                 0.039074\n",
              "WOHNDAUER_2008           0.037873\n",
              "PLZ8_ANTG2               0.036358\n",
              "KBA05_ANTG4              0.032970\n",
              "VERS_TYP_2.0             0.032168\n",
              "WEALTH                   0.031007\n",
              "ANZ_HAUSHALTE_AKTIV      0.029153\n",
              "SEMIO_REL                0.025857\n",
              "SEMIO_MAT                0.025724\n",
              "OST_WEST_KZ_O            0.018636\n",
              "ANZ_HH_TITEL             0.016101\n",
              "KBA05_ANTG3              0.013246\n",
              "                           ...   \n",
              "OST_WEST_KZ_W           -0.018636\n",
              "MIN_GEBAEUDEJAHR        -0.022693\n",
              "KBA05_ANTG1             -0.023042\n",
              "KBA13_ANZAHL_PKW        -0.026162\n",
              "MOBI_REGIO              -0.028315\n",
              "FINANZ_HAUSBAUER        -0.029268\n",
              "HEALTH_TYP              -0.031990\n",
              "KBA05_GBZ               -0.032318\n",
              "WOHNLAGE                -0.032464\n",
              "GEBAEUDETYP_RASTER      -0.034086\n",
              "BALLRAUM                -0.042731\n",
              "PLZ8_GBZ                -0.044266\n",
              "KONSUMNAEHE             -0.044882\n",
              "INNENSTADT              -0.051929\n",
              "MOVEMENT                -0.052753\n",
              "GREEN_AVANTGARDE_0      -0.052753\n",
              "PLZ8_ANTG1              -0.054103\n",
              "ONLINE_AFFINITAET       -0.067806\n",
              "SEMIO_TRADV             -0.105705\n",
              "SEMIO_PFLICHT           -0.107660\n",
              "FINANZ_UNAUFFAELLIGER   -0.121645\n",
              "FINANZ_SPARER           -0.129424\n",
              "SEMIO_ERL               -0.132155\n",
              "DECADE                  -0.132331\n",
              "FINANZ_ANLEGER          -0.204326\n",
              "SEMIO_RAT               -0.227488\n",
              "SEMIO_KRIT              -0.238214\n",
              "SEMIO_DOM               -0.277520\n",
              "SEMIO_KAEM              -0.297868\n",
              "ANREDE_KZ_2.0           -0.334820\n",
              "Name: 2, Length: 73, dtype: float64"
            ]
          },
          "metadata": {}
        }
      ],
      "execution_count": 32,
      "metadata": {
        "scrolled": true
      }
    },
    {
      "cell_type": "markdown",
      "source": [
        "### Discussion 2.3: Interpret Principal Components\n",
        "From the first principal component, it can be seen that\n",
        "\n",
        "- PLZ8_ANTG3 and PLZ8_ANTG4 have a positive correlation. The share of 10+ family homes and the share of 6-10 family homes for macro-cells tend to increase together.\n",
        "- PLZ8_ANTG3 and WEALTH also have a positive correlation. It indicates that when the share of 6-10 family homes in a macro-cell increases, it tends to have more poor households.\n",
        "- MOBI_REGIO and PLZ8_ANTG3 have a negative correlation. It means that when the share of 6-10 family homes in a macro-cell increases, it tends to have higher movements."
      ],
      "metadata": {}
    },
    {
      "cell_type": "markdown",
      "source": [
        "## Step 3: Clustering\n",
        "\n",
        "### Step 3.1: Apply Clustering to General Population\n",
        "\n",
        "You've assessed and cleaned the demographics data, then scaled and transformed them. Now, it's time to see how the data clusters in the principal components space. In this substep, you will apply k-means clustering to the dataset and use the average within-cluster distances from each point to their assigned cluster's centroid to decide on a number of clusters to keep.\n",
        "\n",
        "- Use sklearn's [KMeans](http://scikit-learn.org/stable/modules/generated/sklearn.cluster.KMeans.html#sklearn.cluster.KMeans) class to perform k-means clustering on the PCA-transformed data.\n",
        "- Then, compute the average difference from each point to its assigned cluster's center. **Hint**: The KMeans object's `.score()` method might be useful here, but note that in sklearn, scores tend to be defined so that larger is better. Try applying it to a small, toy dataset, or use an internet search to help your understanding.\n",
        "- Perform the above two steps for a number of different cluster counts. You can then see how the average distance decreases with an increasing number of clusters. However, each additional cluster provides a smaller net benefit. Use this fact to select a final number of clusters in which to group the data. **Warning**: because of the large size of the dataset, it can take a long time for the algorithm to resolve. The more clusters to fit, the longer the algorithm will take. You should test for cluster counts through at least 10 clusters to get the full picture, but you shouldn't need to test for a number of clusters above about 30.\n",
        "- Once you've selected a final number of clusters to use, re-fit a KMeans instance to perform the clustering operation. Make sure that you also obtain the cluster assignments for the general demographics data, since you'll be using them in the final Step 3.3."
      ],
      "metadata": {}
    },
    {
      "cell_type": "code",
      "source": [
        "from sklearn.cluster import KMeans\n",
        "def kmeans_clustering(df, n_clusters):\n",
        "    kmeans = KMeans(n_clusters=n_clusters)\n",
        "    kmeans_fit = kmeans.fit(df)\n",
        "    score = np.abs(kmeans_fit.score(df))\n",
        "    return score"
      ],
      "outputs": [],
      "execution_count": 33,
      "metadata": {}
    },
    {
      "cell_type": "code",
      "source": [
        "ls_score = []\n",
        "clusters = list(range(5,25,5))\n",
        "for i in clusters:\n",
        "    ls_score.append(kmeans_clustering(pca_azdias, i))"
      ],
      "outputs": [],
      "execution_count": 34,
      "metadata": {}
    },
    {
      "cell_type": "code",
      "source": [
        "# Investigate the change in within-cluster distance across number of clusters.\n",
        "# HINT: Use matplotlib's plot function to visualize this relationship.\n",
        "fig = go.Figure(go.Scatter(x=clusters, y=ls_score, mode='lines+markers', name='number_of_clusters'),\n",
        "               go.Layout(title='Elbow Plot'))\n",
        "fig.show()"
      ],
      "outputs": [
        {
          "output_type": "display_data",
          "data": {
            "application/vnd.plotly.v1+json": {
              "config": {
                "plotlyServerURL": "https://plot.ly"
              },
              "data": [
                {
                  "mode": "lines+markers",
                  "name": "number_of_clusters",
                  "type": "scatter",
                  "x": [
                    5,
                    10,
                    15,
                    20
                  ],
                  "y": [
                    38853471.21860443,
                    32915629.335196856,
                    30551320.922591325,
                    28678786.895814832
                  ]
                }
              ],
              "layout": {
                "template": {
                  "data": {
                    "bar": [
                      {
                        "error_x": {
                          "color": "#2a3f5f"
                        },
                        "error_y": {
                          "color": "#2a3f5f"
                        },
                        "marker": {
                          "line": {
                            "color": "#E5ECF6",
                            "width": 0.5
                          }
                        },
                        "type": "bar"
                      }
                    ],
                    "barpolar": [
                      {
                        "marker": {
                          "line": {
                            "color": "#E5ECF6",
                            "width": 0.5
                          }
                        },
                        "type": "barpolar"
                      }
                    ],
                    "carpet": [
                      {
                        "aaxis": {
                          "endlinecolor": "#2a3f5f",
                          "gridcolor": "white",
                          "linecolor": "white",
                          "minorgridcolor": "white",
                          "startlinecolor": "#2a3f5f"
                        },
                        "baxis": {
                          "endlinecolor": "#2a3f5f",
                          "gridcolor": "white",
                          "linecolor": "white",
                          "minorgridcolor": "white",
                          "startlinecolor": "#2a3f5f"
                        },
                        "type": "carpet"
                      }
                    ],
                    "choropleth": [
                      {
                        "colorbar": {
                          "outlinewidth": 0,
                          "ticks": ""
                        },
                        "type": "choropleth"
                      }
                    ],
                    "contour": [
                      {
                        "colorbar": {
                          "outlinewidth": 0,
                          "ticks": ""
                        },
                        "colorscale": [
                          [
                            0,
                            "#0d0887"
                          ],
                          [
                            0.1111111111111111,
                            "#46039f"
                          ],
                          [
                            0.2222222222222222,
                            "#7201a8"
                          ],
                          [
                            0.3333333333333333,
                            "#9c179e"
                          ],
                          [
                            0.4444444444444444,
                            "#bd3786"
                          ],
                          [
                            0.5555555555555556,
                            "#d8576b"
                          ],
                          [
                            0.6666666666666666,
                            "#ed7953"
                          ],
                          [
                            0.7777777777777778,
                            "#fb9f3a"
                          ],
                          [
                            0.8888888888888888,
                            "#fdca26"
                          ],
                          [
                            1,
                            "#f0f921"
                          ]
                        ],
                        "type": "contour"
                      }
                    ],
                    "contourcarpet": [
                      {
                        "colorbar": {
                          "outlinewidth": 0,
                          "ticks": ""
                        },
                        "type": "contourcarpet"
                      }
                    ],
                    "heatmap": [
                      {
                        "colorbar": {
                          "outlinewidth": 0,
                          "ticks": ""
                        },
                        "colorscale": [
                          [
                            0,
                            "#0d0887"
                          ],
                          [
                            0.1111111111111111,
                            "#46039f"
                          ],
                          [
                            0.2222222222222222,
                            "#7201a8"
                          ],
                          [
                            0.3333333333333333,
                            "#9c179e"
                          ],
                          [
                            0.4444444444444444,
                            "#bd3786"
                          ],
                          [
                            0.5555555555555556,
                            "#d8576b"
                          ],
                          [
                            0.6666666666666666,
                            "#ed7953"
                          ],
                          [
                            0.7777777777777778,
                            "#fb9f3a"
                          ],
                          [
                            0.8888888888888888,
                            "#fdca26"
                          ],
                          [
                            1,
                            "#f0f921"
                          ]
                        ],
                        "type": "heatmap"
                      }
                    ],
                    "heatmapgl": [
                      {
                        "colorbar": {
                          "outlinewidth": 0,
                          "ticks": ""
                        },
                        "colorscale": [
                          [
                            0,
                            "#0d0887"
                          ],
                          [
                            0.1111111111111111,
                            "#46039f"
                          ],
                          [
                            0.2222222222222222,
                            "#7201a8"
                          ],
                          [
                            0.3333333333333333,
                            "#9c179e"
                          ],
                          [
                            0.4444444444444444,
                            "#bd3786"
                          ],
                          [
                            0.5555555555555556,
                            "#d8576b"
                          ],
                          [
                            0.6666666666666666,
                            "#ed7953"
                          ],
                          [
                            0.7777777777777778,
                            "#fb9f3a"
                          ],
                          [
                            0.8888888888888888,
                            "#fdca26"
                          ],
                          [
                            1,
                            "#f0f921"
                          ]
                        ],
                        "type": "heatmapgl"
                      }
                    ],
                    "histogram": [
                      {
                        "marker": {
                          "colorbar": {
                            "outlinewidth": 0,
                            "ticks": ""
                          }
                        },
                        "type": "histogram"
                      }
                    ],
                    "histogram2d": [
                      {
                        "colorbar": {
                          "outlinewidth": 0,
                          "ticks": ""
                        },
                        "colorscale": [
                          [
                            0,
                            "#0d0887"
                          ],
                          [
                            0.1111111111111111,
                            "#46039f"
                          ],
                          [
                            0.2222222222222222,
                            "#7201a8"
                          ],
                          [
                            0.3333333333333333,
                            "#9c179e"
                          ],
                          [
                            0.4444444444444444,
                            "#bd3786"
                          ],
                          [
                            0.5555555555555556,
                            "#d8576b"
                          ],
                          [
                            0.6666666666666666,
                            "#ed7953"
                          ],
                          [
                            0.7777777777777778,
                            "#fb9f3a"
                          ],
                          [
                            0.8888888888888888,
                            "#fdca26"
                          ],
                          [
                            1,
                            "#f0f921"
                          ]
                        ],
                        "type": "histogram2d"
                      }
                    ],
                    "histogram2dcontour": [
                      {
                        "colorbar": {
                          "outlinewidth": 0,
                          "ticks": ""
                        },
                        "colorscale": [
                          [
                            0,
                            "#0d0887"
                          ],
                          [
                            0.1111111111111111,
                            "#46039f"
                          ],
                          [
                            0.2222222222222222,
                            "#7201a8"
                          ],
                          [
                            0.3333333333333333,
                            "#9c179e"
                          ],
                          [
                            0.4444444444444444,
                            "#bd3786"
                          ],
                          [
                            0.5555555555555556,
                            "#d8576b"
                          ],
                          [
                            0.6666666666666666,
                            "#ed7953"
                          ],
                          [
                            0.7777777777777778,
                            "#fb9f3a"
                          ],
                          [
                            0.8888888888888888,
                            "#fdca26"
                          ],
                          [
                            1,
                            "#f0f921"
                          ]
                        ],
                        "type": "histogram2dcontour"
                      }
                    ],
                    "mesh3d": [
                      {
                        "colorbar": {
                          "outlinewidth": 0,
                          "ticks": ""
                        },
                        "type": "mesh3d"
                      }
                    ],
                    "parcoords": [
                      {
                        "line": {
                          "colorbar": {
                            "outlinewidth": 0,
                            "ticks": ""
                          }
                        },
                        "type": "parcoords"
                      }
                    ],
                    "pie": [
                      {
                        "automargin": true,
                        "type": "pie"
                      }
                    ],
                    "scatter": [
                      {
                        "marker": {
                          "colorbar": {
                            "outlinewidth": 0,
                            "ticks": ""
                          }
                        },
                        "type": "scatter"
                      }
                    ],
                    "scatter3d": [
                      {
                        "line": {
                          "colorbar": {
                            "outlinewidth": 0,
                            "ticks": ""
                          }
                        },
                        "marker": {
                          "colorbar": {
                            "outlinewidth": 0,
                            "ticks": ""
                          }
                        },
                        "type": "scatter3d"
                      }
                    ],
                    "scattercarpet": [
                      {
                        "marker": {
                          "colorbar": {
                            "outlinewidth": 0,
                            "ticks": ""
                          }
                        },
                        "type": "scattercarpet"
                      }
                    ],
                    "scattergeo": [
                      {
                        "marker": {
                          "colorbar": {
                            "outlinewidth": 0,
                            "ticks": ""
                          }
                        },
                        "type": "scattergeo"
                      }
                    ],
                    "scattergl": [
                      {
                        "marker": {
                          "colorbar": {
                            "outlinewidth": 0,
                            "ticks": ""
                          }
                        },
                        "type": "scattergl"
                      }
                    ],
                    "scattermapbox": [
                      {
                        "marker": {
                          "colorbar": {
                            "outlinewidth": 0,
                            "ticks": ""
                          }
                        },
                        "type": "scattermapbox"
                      }
                    ],
                    "scatterpolar": [
                      {
                        "marker": {
                          "colorbar": {
                            "outlinewidth": 0,
                            "ticks": ""
                          }
                        },
                        "type": "scatterpolar"
                      }
                    ],
                    "scatterpolargl": [
                      {
                        "marker": {
                          "colorbar": {
                            "outlinewidth": 0,
                            "ticks": ""
                          }
                        },
                        "type": "scatterpolargl"
                      }
                    ],
                    "scatterternary": [
                      {
                        "marker": {
                          "colorbar": {
                            "outlinewidth": 0,
                            "ticks": ""
                          }
                        },
                        "type": "scatterternary"
                      }
                    ],
                    "surface": [
                      {
                        "colorbar": {
                          "outlinewidth": 0,
                          "ticks": ""
                        },
                        "colorscale": [
                          [
                            0,
                            "#0d0887"
                          ],
                          [
                            0.1111111111111111,
                            "#46039f"
                          ],
                          [
                            0.2222222222222222,
                            "#7201a8"
                          ],
                          [
                            0.3333333333333333,
                            "#9c179e"
                          ],
                          [
                            0.4444444444444444,
                            "#bd3786"
                          ],
                          [
                            0.5555555555555556,
                            "#d8576b"
                          ],
                          [
                            0.6666666666666666,
                            "#ed7953"
                          ],
                          [
                            0.7777777777777778,
                            "#fb9f3a"
                          ],
                          [
                            0.8888888888888888,
                            "#fdca26"
                          ],
                          [
                            1,
                            "#f0f921"
                          ]
                        ],
                        "type": "surface"
                      }
                    ],
                    "table": [
                      {
                        "cells": {
                          "fill": {
                            "color": "#EBF0F8"
                          },
                          "line": {
                            "color": "white"
                          }
                        },
                        "header": {
                          "fill": {
                            "color": "#C8D4E3"
                          },
                          "line": {
                            "color": "white"
                          }
                        },
                        "type": "table"
                      }
                    ]
                  },
                  "layout": {
                    "annotationdefaults": {
                      "arrowcolor": "#2a3f5f",
                      "arrowhead": 0,
                      "arrowwidth": 1
                    },
                    "coloraxis": {
                      "colorbar": {
                        "outlinewidth": 0,
                        "ticks": ""
                      }
                    },
                    "colorscale": {
                      "diverging": [
                        [
                          0,
                          "#8e0152"
                        ],
                        [
                          0.1,
                          "#c51b7d"
                        ],
                        [
                          0.2,
                          "#de77ae"
                        ],
                        [
                          0.3,
                          "#f1b6da"
                        ],
                        [
                          0.4,
                          "#fde0ef"
                        ],
                        [
                          0.5,
                          "#f7f7f7"
                        ],
                        [
                          0.6,
                          "#e6f5d0"
                        ],
                        [
                          0.7,
                          "#b8e186"
                        ],
                        [
                          0.8,
                          "#7fbc41"
                        ],
                        [
                          0.9,
                          "#4d9221"
                        ],
                        [
                          1,
                          "#276419"
                        ]
                      ],
                      "sequential": [
                        [
                          0,
                          "#0d0887"
                        ],
                        [
                          0.1111111111111111,
                          "#46039f"
                        ],
                        [
                          0.2222222222222222,
                          "#7201a8"
                        ],
                        [
                          0.3333333333333333,
                          "#9c179e"
                        ],
                        [
                          0.4444444444444444,
                          "#bd3786"
                        ],
                        [
                          0.5555555555555556,
                          "#d8576b"
                        ],
                        [
                          0.6666666666666666,
                          "#ed7953"
                        ],
                        [
                          0.7777777777777778,
                          "#fb9f3a"
                        ],
                        [
                          0.8888888888888888,
                          "#fdca26"
                        ],
                        [
                          1,
                          "#f0f921"
                        ]
                      ],
                      "sequentialminus": [
                        [
                          0,
                          "#0d0887"
                        ],
                        [
                          0.1111111111111111,
                          "#46039f"
                        ],
                        [
                          0.2222222222222222,
                          "#7201a8"
                        ],
                        [
                          0.3333333333333333,
                          "#9c179e"
                        ],
                        [
                          0.4444444444444444,
                          "#bd3786"
                        ],
                        [
                          0.5555555555555556,
                          "#d8576b"
                        ],
                        [
                          0.6666666666666666,
                          "#ed7953"
                        ],
                        [
                          0.7777777777777778,
                          "#fb9f3a"
                        ],
                        [
                          0.8888888888888888,
                          "#fdca26"
                        ],
                        [
                          1,
                          "#f0f921"
                        ]
                      ]
                    },
                    "colorway": [
                      "#636efa",
                      "#EF553B",
                      "#00cc96",
                      "#ab63fa",
                      "#FFA15A",
                      "#19d3f3",
                      "#FF6692",
                      "#B6E880",
                      "#FF97FF",
                      "#FECB52"
                    ],
                    "font": {
                      "color": "#2a3f5f"
                    },
                    "geo": {
                      "bgcolor": "white",
                      "lakecolor": "white",
                      "landcolor": "#E5ECF6",
                      "showlakes": true,
                      "showland": true,
                      "subunitcolor": "white"
                    },
                    "hoverlabel": {
                      "align": "left"
                    },
                    "hovermode": "closest",
                    "mapbox": {
                      "style": "light"
                    },
                    "paper_bgcolor": "white",
                    "plot_bgcolor": "#E5ECF6",
                    "polar": {
                      "angularaxis": {
                        "gridcolor": "white",
                        "linecolor": "white",
                        "ticks": ""
                      },
                      "bgcolor": "#E5ECF6",
                      "radialaxis": {
                        "gridcolor": "white",
                        "linecolor": "white",
                        "ticks": ""
                      }
                    },
                    "scene": {
                      "xaxis": {
                        "backgroundcolor": "#E5ECF6",
                        "gridcolor": "white",
                        "gridwidth": 2,
                        "linecolor": "white",
                        "showbackground": true,
                        "ticks": "",
                        "zerolinecolor": "white"
                      },
                      "yaxis": {
                        "backgroundcolor": "#E5ECF6",
                        "gridcolor": "white",
                        "gridwidth": 2,
                        "linecolor": "white",
                        "showbackground": true,
                        "ticks": "",
                        "zerolinecolor": "white"
                      },
                      "zaxis": {
                        "backgroundcolor": "#E5ECF6",
                        "gridcolor": "white",
                        "gridwidth": 2,
                        "linecolor": "white",
                        "showbackground": true,
                        "ticks": "",
                        "zerolinecolor": "white"
                      }
                    },
                    "shapedefaults": {
                      "line": {
                        "color": "#2a3f5f"
                      }
                    },
                    "ternary": {
                      "aaxis": {
                        "gridcolor": "white",
                        "linecolor": "white",
                        "ticks": ""
                      },
                      "baxis": {
                        "gridcolor": "white",
                        "linecolor": "white",
                        "ticks": ""
                      },
                      "bgcolor": "#E5ECF6",
                      "caxis": {
                        "gridcolor": "white",
                        "linecolor": "white",
                        "ticks": ""
                      }
                    },
                    "title": {
                      "x": 0.05
                    },
                    "xaxis": {
                      "automargin": true,
                      "gridcolor": "white",
                      "linecolor": "white",
                      "ticks": "",
                      "title": {
                        "standoff": 15
                      },
                      "zerolinecolor": "white",
                      "zerolinewidth": 2
                    },
                    "yaxis": {
                      "automargin": true,
                      "gridcolor": "white",
                      "linecolor": "white",
                      "ticks": "",
                      "title": {
                        "standoff": 15
                      },
                      "zerolinecolor": "white",
                      "zerolinewidth": 2
                    }
                  }
                },
                "title": {
                  "text": "Elbow Plot"
                }
              }
            },
            "text/html": [
              "<div>\n",
              "        \n",
              "        \n",
              "            <div id=\"f94037e7-a848-497a-a566-212aac9fb150\" class=\"plotly-graph-div\" style=\"height:525px; width:100%;\"></div>\n",
              "            <script type=\"text/javascript\">\n",
              "                require([\"plotly\"], function(Plotly) {\n",
              "                    window.PLOTLYENV=window.PLOTLYENV || {};\n",
              "                    \n",
              "                if (document.getElementById(\"f94037e7-a848-497a-a566-212aac9fb150\")) {\n",
              "                    Plotly.newPlot(\n",
              "                        'f94037e7-a848-497a-a566-212aac9fb150',\n",
              "                        [{\"mode\": \"lines+markers\", \"name\": \"number_of_clusters\", \"type\": \"scatter\", \"x\": [5, 10, 15, 20], \"y\": [38853471.21860443, 32915629.335196856, 30551320.922591325, 28678786.895814832]}],\n",
              "                        {\"template\": {\"data\": {\"bar\": [{\"error_x\": {\"color\": \"#2a3f5f\"}, \"error_y\": {\"color\": \"#2a3f5f\"}, \"marker\": {\"line\": {\"color\": \"#E5ECF6\", \"width\": 0.5}}, \"type\": \"bar\"}], \"barpolar\": [{\"marker\": {\"line\": {\"color\": \"#E5ECF6\", \"width\": 0.5}}, \"type\": \"barpolar\"}], \"carpet\": [{\"aaxis\": {\"endlinecolor\": \"#2a3f5f\", \"gridcolor\": \"white\", \"linecolor\": \"white\", \"minorgridcolor\": \"white\", \"startlinecolor\": \"#2a3f5f\"}, \"baxis\": {\"endlinecolor\": \"#2a3f5f\", \"gridcolor\": \"white\", \"linecolor\": \"white\", \"minorgridcolor\": \"white\", \"startlinecolor\": \"#2a3f5f\"}, \"type\": \"carpet\"}], \"choropleth\": [{\"colorbar\": {\"outlinewidth\": 0, \"ticks\": \"\"}, \"type\": \"choropleth\"}], \"contour\": [{\"colorbar\": {\"outlinewidth\": 0, \"ticks\": \"\"}, \"colorscale\": [[0.0, \"#0d0887\"], [0.1111111111111111, \"#46039f\"], [0.2222222222222222, \"#7201a8\"], [0.3333333333333333, \"#9c179e\"], [0.4444444444444444, \"#bd3786\"], [0.5555555555555556, \"#d8576b\"], [0.6666666666666666, \"#ed7953\"], [0.7777777777777778, \"#fb9f3a\"], [0.8888888888888888, \"#fdca26\"], [1.0, \"#f0f921\"]], \"type\": \"contour\"}], \"contourcarpet\": [{\"colorbar\": {\"outlinewidth\": 0, \"ticks\": \"\"}, \"type\": \"contourcarpet\"}], \"heatmap\": [{\"colorbar\": {\"outlinewidth\": 0, \"ticks\": \"\"}, \"colorscale\": [[0.0, \"#0d0887\"], [0.1111111111111111, \"#46039f\"], [0.2222222222222222, \"#7201a8\"], [0.3333333333333333, \"#9c179e\"], [0.4444444444444444, \"#bd3786\"], [0.5555555555555556, \"#d8576b\"], [0.6666666666666666, \"#ed7953\"], [0.7777777777777778, \"#fb9f3a\"], [0.8888888888888888, \"#fdca26\"], [1.0, \"#f0f921\"]], \"type\": \"heatmap\"}], \"heatmapgl\": [{\"colorbar\": {\"outlinewidth\": 0, \"ticks\": \"\"}, \"colorscale\": [[0.0, \"#0d0887\"], [0.1111111111111111, \"#46039f\"], [0.2222222222222222, \"#7201a8\"], [0.3333333333333333, \"#9c179e\"], [0.4444444444444444, \"#bd3786\"], [0.5555555555555556, \"#d8576b\"], [0.6666666666666666, \"#ed7953\"], [0.7777777777777778, \"#fb9f3a\"], [0.8888888888888888, \"#fdca26\"], [1.0, \"#f0f921\"]], \"type\": \"heatmapgl\"}], \"histogram\": [{\"marker\": {\"colorbar\": {\"outlinewidth\": 0, \"ticks\": \"\"}}, \"type\": \"histogram\"}], \"histogram2d\": [{\"colorbar\": {\"outlinewidth\": 0, \"ticks\": \"\"}, \"colorscale\": [[0.0, \"#0d0887\"], [0.1111111111111111, \"#46039f\"], [0.2222222222222222, \"#7201a8\"], [0.3333333333333333, \"#9c179e\"], [0.4444444444444444, \"#bd3786\"], [0.5555555555555556, \"#d8576b\"], [0.6666666666666666, \"#ed7953\"], [0.7777777777777778, \"#fb9f3a\"], [0.8888888888888888, \"#fdca26\"], [1.0, \"#f0f921\"]], \"type\": \"histogram2d\"}], \"histogram2dcontour\": [{\"colorbar\": {\"outlinewidth\": 0, \"ticks\": \"\"}, \"colorscale\": [[0.0, \"#0d0887\"], [0.1111111111111111, \"#46039f\"], [0.2222222222222222, \"#7201a8\"], [0.3333333333333333, \"#9c179e\"], [0.4444444444444444, \"#bd3786\"], [0.5555555555555556, \"#d8576b\"], [0.6666666666666666, \"#ed7953\"], [0.7777777777777778, \"#fb9f3a\"], [0.8888888888888888, \"#fdca26\"], [1.0, \"#f0f921\"]], \"type\": \"histogram2dcontour\"}], \"mesh3d\": [{\"colorbar\": {\"outlinewidth\": 0, \"ticks\": \"\"}, \"type\": \"mesh3d\"}], \"parcoords\": [{\"line\": {\"colorbar\": {\"outlinewidth\": 0, \"ticks\": \"\"}}, \"type\": \"parcoords\"}], \"pie\": [{\"automargin\": true, \"type\": \"pie\"}], \"scatter\": [{\"marker\": {\"colorbar\": {\"outlinewidth\": 0, \"ticks\": \"\"}}, \"type\": \"scatter\"}], \"scatter3d\": [{\"line\": {\"colorbar\": {\"outlinewidth\": 0, \"ticks\": \"\"}}, \"marker\": {\"colorbar\": {\"outlinewidth\": 0, \"ticks\": \"\"}}, \"type\": \"scatter3d\"}], \"scattercarpet\": [{\"marker\": {\"colorbar\": {\"outlinewidth\": 0, \"ticks\": \"\"}}, \"type\": \"scattercarpet\"}], \"scattergeo\": [{\"marker\": {\"colorbar\": {\"outlinewidth\": 0, \"ticks\": \"\"}}, \"type\": \"scattergeo\"}], \"scattergl\": [{\"marker\": {\"colorbar\": {\"outlinewidth\": 0, \"ticks\": \"\"}}, \"type\": \"scattergl\"}], \"scattermapbox\": [{\"marker\": {\"colorbar\": {\"outlinewidth\": 0, \"ticks\": \"\"}}, \"type\": \"scattermapbox\"}], \"scatterpolar\": [{\"marker\": {\"colorbar\": {\"outlinewidth\": 0, \"ticks\": \"\"}}, \"type\": \"scatterpolar\"}], \"scatterpolargl\": [{\"marker\": {\"colorbar\": {\"outlinewidth\": 0, \"ticks\": \"\"}}, \"type\": \"scatterpolargl\"}], \"scatterternary\": [{\"marker\": {\"colorbar\": {\"outlinewidth\": 0, \"ticks\": \"\"}}, \"type\": \"scatterternary\"}], \"surface\": [{\"colorbar\": {\"outlinewidth\": 0, \"ticks\": \"\"}, \"colorscale\": [[0.0, \"#0d0887\"], [0.1111111111111111, \"#46039f\"], [0.2222222222222222, \"#7201a8\"], [0.3333333333333333, \"#9c179e\"], [0.4444444444444444, \"#bd3786\"], [0.5555555555555556, \"#d8576b\"], [0.6666666666666666, \"#ed7953\"], [0.7777777777777778, \"#fb9f3a\"], [0.8888888888888888, \"#fdca26\"], [1.0, \"#f0f921\"]], \"type\": \"surface\"}], \"table\": [{\"cells\": {\"fill\": {\"color\": \"#EBF0F8\"}, \"line\": {\"color\": \"white\"}}, \"header\": {\"fill\": {\"color\": \"#C8D4E3\"}, \"line\": {\"color\": \"white\"}}, \"type\": \"table\"}]}, \"layout\": {\"annotationdefaults\": {\"arrowcolor\": \"#2a3f5f\", \"arrowhead\": 0, \"arrowwidth\": 1}, \"coloraxis\": {\"colorbar\": {\"outlinewidth\": 0, \"ticks\": \"\"}}, \"colorscale\": {\"diverging\": [[0, \"#8e0152\"], [0.1, \"#c51b7d\"], [0.2, \"#de77ae\"], [0.3, \"#f1b6da\"], [0.4, \"#fde0ef\"], [0.5, \"#f7f7f7\"], [0.6, \"#e6f5d0\"], [0.7, \"#b8e186\"], [0.8, \"#7fbc41\"], [0.9, \"#4d9221\"], [1, \"#276419\"]], \"sequential\": [[0.0, \"#0d0887\"], [0.1111111111111111, \"#46039f\"], [0.2222222222222222, \"#7201a8\"], [0.3333333333333333, \"#9c179e\"], [0.4444444444444444, \"#bd3786\"], [0.5555555555555556, \"#d8576b\"], [0.6666666666666666, \"#ed7953\"], [0.7777777777777778, \"#fb9f3a\"], [0.8888888888888888, \"#fdca26\"], [1.0, \"#f0f921\"]], \"sequentialminus\": [[0.0, \"#0d0887\"], [0.1111111111111111, \"#46039f\"], [0.2222222222222222, \"#7201a8\"], [0.3333333333333333, \"#9c179e\"], [0.4444444444444444, \"#bd3786\"], [0.5555555555555556, \"#d8576b\"], [0.6666666666666666, \"#ed7953\"], [0.7777777777777778, \"#fb9f3a\"], [0.8888888888888888, \"#fdca26\"], [1.0, \"#f0f921\"]]}, \"colorway\": [\"#636efa\", \"#EF553B\", \"#00cc96\", \"#ab63fa\", \"#FFA15A\", \"#19d3f3\", \"#FF6692\", \"#B6E880\", \"#FF97FF\", \"#FECB52\"], \"font\": {\"color\": \"#2a3f5f\"}, \"geo\": {\"bgcolor\": \"white\", \"lakecolor\": \"white\", \"landcolor\": \"#E5ECF6\", \"showlakes\": true, \"showland\": true, \"subunitcolor\": \"white\"}, \"hoverlabel\": {\"align\": \"left\"}, \"hovermode\": \"closest\", \"mapbox\": {\"style\": \"light\"}, \"paper_bgcolor\": \"white\", \"plot_bgcolor\": \"#E5ECF6\", \"polar\": {\"angularaxis\": {\"gridcolor\": \"white\", \"linecolor\": \"white\", \"ticks\": \"\"}, \"bgcolor\": \"#E5ECF6\", \"radialaxis\": {\"gridcolor\": \"white\", \"linecolor\": \"white\", \"ticks\": \"\"}}, \"scene\": {\"xaxis\": {\"backgroundcolor\": \"#E5ECF6\", \"gridcolor\": \"white\", \"gridwidth\": 2, \"linecolor\": \"white\", \"showbackground\": true, \"ticks\": \"\", \"zerolinecolor\": \"white\"}, \"yaxis\": {\"backgroundcolor\": \"#E5ECF6\", \"gridcolor\": \"white\", \"gridwidth\": 2, \"linecolor\": \"white\", \"showbackground\": true, \"ticks\": \"\", \"zerolinecolor\": \"white\"}, \"zaxis\": {\"backgroundcolor\": \"#E5ECF6\", \"gridcolor\": \"white\", \"gridwidth\": 2, \"linecolor\": \"white\", \"showbackground\": true, \"ticks\": \"\", \"zerolinecolor\": \"white\"}}, \"shapedefaults\": {\"line\": {\"color\": \"#2a3f5f\"}}, \"ternary\": {\"aaxis\": {\"gridcolor\": \"white\", \"linecolor\": \"white\", \"ticks\": \"\"}, \"baxis\": {\"gridcolor\": \"white\", \"linecolor\": \"white\", \"ticks\": \"\"}, \"bgcolor\": \"#E5ECF6\", \"caxis\": {\"gridcolor\": \"white\", \"linecolor\": \"white\", \"ticks\": \"\"}}, \"title\": {\"x\": 0.05}, \"xaxis\": {\"automargin\": true, \"gridcolor\": \"white\", \"linecolor\": \"white\", \"ticks\": \"\", \"title\": {\"standoff\": 15}, \"zerolinecolor\": \"white\", \"zerolinewidth\": 2}, \"yaxis\": {\"automargin\": true, \"gridcolor\": \"white\", \"linecolor\": \"white\", \"ticks\": \"\", \"title\": {\"standoff\": 15}, \"zerolinecolor\": \"white\", \"zerolinewidth\": 2}}}, \"title\": {\"text\": \"Elbow Plot\"}},\n",
              "                        {\"responsive\": true}\n",
              "                    ).then(function(){\n",
              "                            \n",
              "var gd = document.getElementById('f94037e7-a848-497a-a566-212aac9fb150');\n",
              "var x = new MutationObserver(function (mutations, observer) {{\n",
              "        var display = window.getComputedStyle(gd).display;\n",
              "        if (!display || display === 'none') {{\n",
              "            console.log([gd, 'removed!']);\n",
              "            Plotly.purge(gd);\n",
              "            observer.disconnect();\n",
              "        }}\n",
              "}});\n",
              "\n",
              "// Listen for the removal of the full notebook cells\n",
              "var notebookContainer = gd.closest('#notebook-container');\n",
              "if (notebookContainer) {{\n",
              "    x.observe(notebookContainer, {childList: true});\n",
              "}}\n",
              "\n",
              "// Listen for the clearing of the current output cell\n",
              "var outputEl = gd.closest('.output');\n",
              "if (outputEl) {{\n",
              "    x.observe(outputEl, {childList: true});\n",
              "}}\n",
              "\n",
              "                        })\n",
              "                };\n",
              "                });\n",
              "            </script>\n",
              "        </div>"
            ]
          },
          "metadata": {}
        }
      ],
      "execution_count": 35,
      "metadata": {}
    },
    {
      "cell_type": "code",
      "source": [
        "# Re-fit the k-means model with the selected number of clusters and obtain\n",
        "# cluster predictions for the general population demographics data.\n",
        "\n"
      ],
      "outputs": [],
      "execution_count": 36,
      "metadata": {}
    },
    {
      "cell_type": "markdown",
      "source": [
        "### Discussion 3.1: Apply Clustering to General Population\n",
        "\n",
        "(Double-click this cell and replace this text with your own text, reporting your findings and decisions regarding clustering. Into how many clusters have you decided to segment the population?)"
      ],
      "metadata": {}
    },
    {
      "cell_type": "markdown",
      "source": [
        "### Step 3.2: Apply All Steps to the Customer Data\n",
        "\n",
        "Now that you have clusters and cluster centers for the general population, it's time to see how the customer data maps on to those clusters. Take care to not confuse this for re-fitting all of the models to the customer data. Instead, you're going to use the fits from the general population to clean, transform, and cluster the customer data. In the last step of the project, you will interpret how the general population fits apply to the customer data.\n",
        "\n",
        "- Don't forget when loading in the customers data, that it is semicolon (`;`) delimited.\n",
        "- Apply the same feature wrangling, selection, and engineering steps to the customer demographics using the `clean_data()` function you created earlier. (You can assume that the customer demographics data has similar meaning behind missing data patterns as the general demographics data.)\n",
        "- Use the sklearn objects from the general demographics data, and apply their transformations to the customers data. That is, you should not be using a `.fit()` or `.fit_transform()` method to re-fit the old objects, nor should you be creating new sklearn objects! Carry the data through the feature scaling, PCA, and clustering steps, obtaining cluster assignments for all of the data in the customer demographics data."
      ],
      "metadata": {}
    },
    {
      "cell_type": "code",
      "source": [
        "# Load in the customer demographics data.\n",
        "customers = "
      ],
      "outputs": [
        {
          "output_type": "error",
          "ename": "SyntaxError",
          "evalue": "invalid syntax (<ipython-input-37-416d584d1460>, line 2)",
          "traceback": [
            "\u001b[0;36m  File \u001b[0;32m\"<ipython-input-37-416d584d1460>\"\u001b[0;36m, line \u001b[0;32m2\u001b[0m\n\u001b[0;31m    customers =\u001b[0m\n\u001b[0m                ^\u001b[0m\n\u001b[0;31mSyntaxError\u001b[0m\u001b[0;31m:\u001b[0m invalid syntax\n"
          ]
        }
      ],
      "execution_count": 37,
      "metadata": {}
    },
    {
      "cell_type": "code",
      "source": [
        "# Apply preprocessing, feature transformation, and clustering from the general\n",
        "# demographics onto the customer data, obtaining cluster predictions for the\n",
        "# customer demographics data.\n",
        "\n"
      ],
      "outputs": [],
      "execution_count": null,
      "metadata": {}
    },
    {
      "cell_type": "markdown",
      "source": [
        "### Step 3.3: Compare Customer Data to Demographics Data\n",
        "\n",
        "At this point, you have clustered data based on demographics of the general population of Germany, and seen how the customer data for a mail-order sales company maps onto those demographic clusters. In this final substep, you will compare the two cluster distributions to see where the strongest customer base for the company is.\n",
        "\n",
        "Consider the proportion of persons in each cluster for the general population, and the proportions for the customers. If we think the company's customer base to be universal, then the cluster assignment proportions should be fairly similar between the two. If there are only particular segments of the population that are interested in the company's products, then we should see a mismatch from one to the other. If there is a higher proportion of persons in a cluster for the customer data compared to the general population (e.g. 5% of persons are assigned to a cluster for the general population, but 15% of the customer data is closest to that cluster's centroid) then that suggests the people in that cluster to be a target audience for the company. On the other hand, the proportion of the data in a cluster being larger in the general population than the customer data (e.g. only 2% of customers closest to a population centroid that captures 6% of the data) suggests that group of persons to be outside of the target demographics.\n",
        "\n",
        "Take a look at the following points in this step:\n",
        "\n",
        "- Compute the proportion of data points in each cluster for the general population and the customer data. Visualizations will be useful here: both for the individual dataset proportions, but also to visualize the ratios in cluster representation between groups. Seaborn's [`countplot()`](https://seaborn.pydata.org/generated/seaborn.countplot.html) or [`barplot()`](https://seaborn.pydata.org/generated/seaborn.barplot.html) function could be handy.\n",
        "  - Recall the analysis you performed in step 1.1.3 of the project, where you separated out certain data points from the dataset if they had more than a specified threshold of missing values. If you found that this group was qualitatively different from the main bulk of the data, you should treat this as an additional data cluster in this analysis. Make sure that you account for the number of data points in this subset, for both the general population and customer datasets, when making your computations!\n",
        "- Which cluster or clusters are overrepresented in the customer dataset compared to the general population? Select at least one such cluster and infer what kind of people might be represented by that cluster. Use the principal component interpretations from step 2.3 or look at additional components to help you make this inference. Alternatively, you can use the `.inverse_transform()` method of the PCA and StandardScaler objects to transform centroids back to the original data space and interpret the retrieved values directly.\n",
        "- Perform a similar investigation for the underrepresented clusters. Which cluster or clusters are underrepresented in the customer dataset compared to the general population, and what kinds of people are typified by these clusters?"
      ],
      "metadata": {}
    },
    {
      "cell_type": "code",
      "source": [
        "# Compare the proportion of data in each cluster for the customer data to the\n",
        "# proportion of data in each cluster for the general population.\n",
        "\n"
      ],
      "outputs": [],
      "execution_count": null,
      "metadata": {}
    },
    {
      "cell_type": "code",
      "source": [
        "# What kinds of people are part of a cluster that is overrepresented in the\n",
        "# customer data compared to the general population?\n",
        "\n"
      ],
      "outputs": [],
      "execution_count": null,
      "metadata": {}
    },
    {
      "cell_type": "code",
      "source": [
        "# What kinds of people are part of a cluster that is underrepresented in the\n",
        "# customer data compared to the general population?\n",
        "\n"
      ],
      "outputs": [],
      "execution_count": null,
      "metadata": {}
    },
    {
      "cell_type": "markdown",
      "source": [
        "### Discussion 3.3: Compare Customer Data to Demographics Data\n",
        "\n",
        "(Double-click this cell and replace this text with your own text, reporting findings and conclusions from the clustering analysis. Can we describe segments of the population that are relatively popular with the mail-order company, or relatively unpopular with the company?)"
      ],
      "metadata": {}
    },
    {
      "cell_type": "markdown",
      "source": [
        "> Congratulations on making it this far in the project! Before you finish, make sure to check through the entire notebook from top to bottom to make sure that your analysis follows a logical flow and all of your findings are documented in **Discussion** cells. Once you've checked over all of your work, you should export the notebook as an HTML document to submit for evaluation. You can do this from the menu, navigating to **File -> Download as -> HTML (.html)**. You will submit both that document and this notebook for your project submission."
      ],
      "metadata": {}
    },
    {
      "cell_type": "code",
      "source": [],
      "outputs": [],
      "execution_count": null,
      "metadata": {}
    }
  ],
  "metadata": {
    "kernelspec": {
      "display_name": "Python 3",
      "language": "python",
      "name": "python3"
    },
    "language_info": {
      "codemirror_mode": {
        "name": "ipython",
        "version": 3
      },
      "file_extension": ".py",
      "mimetype": "text/x-python",
      "name": "python",
      "nbconvert_exporter": "python",
      "pygments_lexer": "ipython3",
      "version": "3.6.3"
    },
    "nteract": {
      "version": "0.23.3"
    }
  },
  "nbformat": 4,
  "nbformat_minor": 2
}